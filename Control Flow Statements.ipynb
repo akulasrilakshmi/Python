{
 "cells": [
  {
   "cell_type": "markdown",
   "id": "e723bc78",
   "metadata": {},
   "source": [
    "### Control Flow Statements :\n",
    "* Control flow statements control the flow of statemts during the execution phase( PVM has control).\n",
    "* there are three types of control flow statements.\n",
    "      * selection statements / conditional statements\n",
    "      * iterative statements\n",
    "      * interruptive statements"
   ]
  },
  {
   "cell_type": "markdown",
   "id": "e189c163",
   "metadata": {},
   "source": [
    "### Selection statements :\n",
    "* Selection statements control the flow based on condition(output of conditional statement).\n",
    "       * if<condition>\n",
    "       * if<condition>...else\n",
    "       * if<condition>.....elif<condition>.....else\n",
    "       * Nested if condition\n",
    "       * inline if / if comprehension"
   ]
  },
  {
   "cell_type": "code",
   "execution_count": 4,
   "id": "bb8785fe",
   "metadata": {},
   "outputs": [],
   "source": [
    "# if <condition> :\n",
    "#     <state1>\n",
    "#     <state2>\n",
    "#     <state3>"
   ]
  },
  {
   "cell_type": "code",
   "execution_count": null,
   "id": "18f14a31",
   "metadata": {},
   "outputs": [],
   "source": [
    "# greatest of 2 numbers "
   ]
  },
  {
   "cell_type": "code",
   "execution_count": 5,
   "id": "9792922c",
   "metadata": {},
   "outputs": [
    {
     "name": "stdout",
     "output_type": "stream",
     "text": [
      "Enter First Number : 100\n",
      "Enter Second Number : 150\n",
      "150\n"
     ]
    }
   ],
   "source": [
    "n1 = int( input(\"Enter First Number : \") )\n",
    "n2 = int( input(\"Enter Second Number : \") )\n",
    "\n",
    "if (n1 >= n2) :\n",
    "    print(n1)\n",
    "\n",
    "if (n2 >= n1) :\n",
    "    print(n2)"
   ]
  },
  {
   "cell_type": "code",
   "execution_count": null,
   "id": "b4f2723c",
   "metadata": {},
   "outputs": [],
   "source": [
    "# voting example"
   ]
  },
  {
   "cell_type": "code",
   "execution_count": 9,
   "id": "3b45dae8",
   "metadata": {},
   "outputs": [
    {
     "name": "stdout",
     "output_type": "stream",
     "text": [
      "Enter Your Age : 17\n",
      "Not eligible\n"
     ]
    }
   ],
   "source": [
    "age = int(input(\"Enter Your Age : \"))\n",
    "\n",
    "if age >= 18:\n",
    "    print(\"Eligible for Voting \")\n",
    "\n",
    "if age < 18 :\n",
    "    print(\"Not eligible\")"
   ]
  },
  {
   "cell_type": "code",
   "execution_count": 10,
   "id": "0c2fe17f",
   "metadata": {},
   "outputs": [],
   "source": [
    "# if<condition>...else"
   ]
  },
  {
   "cell_type": "code",
   "execution_count": 11,
   "id": "a199726c",
   "metadata": {},
   "outputs": [
    {
     "name": "stdout",
     "output_type": "stream",
     "text": [
      "Enter Your Age : 18\n",
      "Eligible for Voting \n"
     ]
    }
   ],
   "source": [
    "age = int(input(\"Enter Your Age : \"))\n",
    "\n",
    "if True: \n",
    "    print(\"Eligible for Voting \")\n",
    "else :\n",
    "    print(\"Not eligible\")"
   ]
  },
  {
   "cell_type": "code",
   "execution_count": 12,
   "id": "1b05d491",
   "metadata": {},
   "outputs": [
    {
     "name": "stdout",
     "output_type": "stream",
     "text": [
      "Enter your Marks : 36\n",
      "Pass\n"
     ]
    }
   ],
   "source": [
    "avg = int(input(\"Enter your Marks : \"))\n",
    "\n",
    "if avg >= 35:\n",
    "    print(\"Pass\")\n",
    "else :\n",
    "    print(\"Fail\")"
   ]
  },
  {
   "cell_type": "code",
   "execution_count": 13,
   "id": "99004aee",
   "metadata": {},
   "outputs": [],
   "source": [
    "#  if<condition>.....elif<condition>.....else"
   ]
  },
  {
   "cell_type": "code",
   "execution_count": null,
   "id": "402be4dd",
   "metadata": {},
   "outputs": [],
   "source": [
    "# student grade example"
   ]
  },
  {
   "cell_type": "code",
   "execution_count": 16,
   "id": "9d63d12f",
   "metadata": {},
   "outputs": [
    {
     "name": "stdout",
     "output_type": "stream",
     "text": [
      "Enter your Marks : 67\n",
      "Grade B\n"
     ]
    }
   ],
   "source": [
    "avg = int(input(\"Enter your Marks : \"))\n",
    "\n",
    "\n",
    "if (avg >= 75) :\n",
    "    print(\"Grade A\")\n",
    "    \n",
    "elif  (avg >=50 and avg < 75) :\n",
    "    print(\"Grade B\")\n",
    "    \n",
    "elif (avg>=35 and avg < 50) :\n",
    "    print(\"Grade C\")\n",
    "\n",
    "else :\n",
    "    print(\"Fail\")"
   ]
  },
  {
   "cell_type": "code",
   "execution_count": null,
   "id": "48ab9a36",
   "metadata": {},
   "outputs": [],
   "source": [
    "# employee designation example"
   ]
  },
  {
   "cell_type": "code",
   "execution_count": 17,
   "id": "6d1b7803",
   "metadata": {},
   "outputs": [
    {
     "name": "stdout",
     "output_type": "stream",
     "text": [
      "Enter Employee Designation : Developer\n",
      "Enter Employee Salary : 50000\n",
      "Hike is 16%\n",
      "Original Salary :  50000\n",
      "Hiked Salary :  58000.0\n"
     ]
    }
   ],
   "source": [
    "desg = input(\"Enter Employee Designation : \")\n",
    "sal = int(input(\"Enter Employee Salary : \"))\n",
    "\n",
    "desg = desg.upper()\n",
    "\n",
    "if desg == 'PROJECT MANAGER' :\n",
    "    print(\"Hike is 20%\")\n",
    "    hikeamount = sal * 0.2\n",
    "    hikedsal = sal + hikeamount\n",
    "    print(\"Original Salary : \",sal)\n",
    "    print(\"Hiked Salary : \",hikedsal)\n",
    "    \n",
    "elif desg == 'TECHNICAL MANAGER':\n",
    "    print(\"Hike is 18%\")\n",
    "    hikeamount = sal * 0.18\n",
    "    hikedsal = sal + hikeamount\n",
    "    print(\"Original Salary : \",sal)\n",
    "    print(\"Hiked Salary : \",hikedsal)\n",
    "    \n",
    "elif desg == 'DEVELOPER':\n",
    "    print(\"Hike is 16%\")\n",
    "    hikeamount = sal * 0.16\n",
    "    hikedsal = sal + hikeamount\n",
    "    print(\"Original Salary : \",sal)\n",
    "    print(\"Hiked Salary : \",hikedsal)\n",
    "\n",
    "elif desg == \"TESTER\" :\n",
    "    print(\"Hike is 15%\")\n",
    "    hikeamount = sal * 0.15\n",
    "    hikedsal = sal + hikeamount\n",
    "    print(\"Original Salary : \",sal)\n",
    "    print(\"Hiked Salary : \",hikedsal)\n",
    "\n",
    "else :\n",
    "    print(\"Hike is 12%\")\n",
    "    hikeamount = sal * 0.12\n",
    "    hikedsal = sal + hikeamount\n",
    "    print(\"Original Salary : \",sal)\n",
    "    print(\"Hiked Salary : \",hikedsal)\n",
    "    "
   ]
  },
  {
   "cell_type": "code",
   "execution_count": 18,
   "id": "efb9824b",
   "metadata": {},
   "outputs": [],
   "source": [
    "# Nested if Condition - Employee Example"
   ]
  },
  {
   "cell_type": "code",
   "execution_count": 19,
   "id": "0ce0723a",
   "metadata": {},
   "outputs": [
    {
     "name": "stdout",
     "output_type": "stream",
     "text": [
      "Enter Employee Designation : Technical Manager\n",
      "Enter Employee Experience : 13\n",
      "Enter Employee Salary : 100000\n",
      "TECHNICAL MANAGER\n",
      "13\n",
      "100000.0\n",
      "****************************************\n",
      "WELCOME TO TECHNICAL MANAGER BLOCK \n",
      "Hike is 20%\n",
      "Original Salary :  100000.0\n",
      "Hiked Amount :  20000.0\n",
      "Hiked Salary :  120000.0\n"
     ]
    }
   ],
   "source": [
    "desg = input(\"Enter Employee Designation : \")\n",
    "exp = int(input(\"Enter Employee Experience : \"))\n",
    "sal = float(input(\"Enter Employee Salary : \"))\n",
    "\n",
    "desg = desg.upper()\n",
    "\n",
    "print(desg)\n",
    "print(exp)\n",
    "print(sal)\n",
    "\n",
    "print(\"****************************************\")\n",
    "\n",
    "if desg == \"PROJECT MANAGER\" :\n",
    "    \n",
    "        print(\"GOOD MORNING\",desg)\n",
    "        \n",
    "        if exp >= 15 :\n",
    "            print(\"Hike is 25%\") \n",
    "            hamount = sal * 0.25\n",
    "            hikedsal = sal + hamount\n",
    "            print(\"Original Salary : \",sal)\n",
    "            print(\"Hiked Amount : \", hamount)\n",
    "            print(\"Hiked Salary : \", hikedsal)\n",
    "\n",
    "        elif (exp >= 10 and exp < 15) :\n",
    "            print(\"Hike is 22%\") \n",
    "            hamount = sal * 0.22\n",
    "            hikedsal = sal + hamount\n",
    "            print(\"Original Salary : \",sal)\n",
    "            print(\"Hiked Amount : \", hamount)\n",
    "            print(\"Hiked Salary : \", hikedsal)\n",
    "\n",
    "        else : \n",
    "            print(\"Hike is 20%\") \n",
    "            hamount = sal * 0.20\n",
    "            hikedsal = sal + hamount\n",
    "            print(\"Original Salary : \",sal)\n",
    "            print(\"Hiked Amount : \", hamount)\n",
    "            print(\"Hiked Salary : \", hikedsal)\n",
    "            \n",
    "\n",
    "elif desg == \"TECHNICAL MANAGER\" :\n",
    "    \n",
    "        print(\"WELCOME TO TECHNICAL MANAGER BLOCK \")\n",
    "        \n",
    "        \n",
    "        if exp >= 15 :\n",
    "            print(\"Hike is 22%\") \n",
    "            hamount = sal * 0.22\n",
    "            hikedsal = sal + hamount\n",
    "            print(\"Original Salary : \",sal)\n",
    "            print(\"Hiked Amount : \", hamount)\n",
    "            print(\"Hiked Salary : \", hikedsal)\n",
    "            \n",
    "        elif (exp >= 10 and exp < 15) :\n",
    "            print(\"Hike is 20%\") \n",
    "            hamount = sal * 0.20\n",
    "            hikedsal = sal + hamount\n",
    "            print(\"Original Salary : \",sal)\n",
    "            print(\"Hiked Amount : \", hamount)\n",
    "            print(\"Hiked Salary : \", hikedsal)\n",
    "        \n",
    "        else :\n",
    "            print(\"Hike is 18%\") \n",
    "            hamount = sal * 0.18\n",
    "            hikedsal = sal + hamount\n",
    "            print(\"Original Salary : \",sal)\n",
    "            print(\"Hiked Amount : \", hamount)\n",
    "            print(\"Hiked Salary : \", hikedsal)\n",
    "            \n",
    "            \n",
    "elif desg == \"DEVELOPER\" :\n",
    "            \n",
    "            print(\"WELCOME TO DEVELOPER BLOCK \")\n",
    "            \n",
    "            if exp >= 6 : \n",
    "                \n",
    "                    print(\"Hike is 18%\") \n",
    "                    hamount = sal * 0.18\n",
    "                    hikedsal = sal + hamount\n",
    "                    print(\"Original Salary : \",sal)\n",
    "                    print(\"Hiked Amount : \", hamount)\n",
    "                    print(\"Hiked Salary : \", hikedsal)\n",
    "                    \n",
    "            elif exp >= 4 and exp < 6 :\n",
    "                    print(\"Hike is 17%\") \n",
    "                    hamount = sal * 0.17\n",
    "                    hikedsal = sal + hamount\n",
    "                    print(\"Original Salary : \",sal)\n",
    "                    print(\"Hiked Amount : \", hamount)\n",
    "                    print(\"Hiked Salary : \", hikedsal)\n",
    "                    \n",
    "            else : \n",
    "                \n",
    "                    print(\"Hike is 15%\") \n",
    "                    hamount = sal * 0.15\n",
    "                    hikedsal = sal + hamount\n",
    "                    print(\"Original Salary : \",sal)\n",
    "                    print(\"Hiked Amount : \", hamount)\n",
    "                    print(\"Hiked Salary : \", hikedsal)\n",
    "\n",
    "\n",
    "else :\n",
    "     \n",
    "            print(\"Hike is 12%\") \n",
    "            hamount = sal * 0.12\n",
    "            hikedsal = sal + hamount\n",
    "            print(\"Original Salary : \",sal)\n",
    "            print(\"Hiked Amount : \", hamount)\n",
    "            print(\"Hiked Salary : \", hikedsal)\n",
    "                \n",
    "        \n",
    "        \n",
    "        \n",
    "        \n",
    "\n"
   ]
  },
  {
   "cell_type": "markdown",
   "id": "81b1b450",
   "metadata": {},
   "source": [
    "#### Inline if Condition :\n",
    "* single line if condition is called is inline if\n",
    "* very elegant and fast in execution and complete if condition will be in one line"
   ]
  },
  {
   "cell_type": "code",
   "execution_count": 21,
   "id": "c38638a5",
   "metadata": {},
   "outputs": [
    {
     "name": "stdout",
     "output_type": "stream",
     "text": [
      "Enter Your Marks : 45\n",
      "Failed\n",
      "_______________________________________________\n",
      "FAILED\n",
      "_______________________________________________\n",
      "FAILED\n"
     ]
    }
   ],
   "source": [
    "avg  = int(input(\"Enter Your Marks : \"))\n",
    "\n",
    "if avg >= 50 :\n",
    "    print(\"Passed\")\n",
    "else :\n",
    "    print(\"Failed\")\n",
    "    \n",
    "print(\"_______________________________________________\")\n",
    "\n",
    "res = \"PASSED\" if avg >= 50 else \"FAILED\" \n",
    "print(res)\n",
    "\n",
    "print(\"_______________________________________________\")\n",
    "\n",
    "print( \"PASSED\" if avg >= 50 else \"FAILED\"  )"
   ]
  },
  {
   "cell_type": "code",
   "execution_count": 22,
   "id": "cfaec270",
   "metadata": {},
   "outputs": [
    {
     "name": "stdout",
     "output_type": "stream",
     "text": [
      "Enter Your Marks : 78\n",
      "Grade B\n",
      "******************************************************\n",
      "GRADE B\n"
     ]
    }
   ],
   "source": [
    "avg1 = int(input(\"Enter Your Marks : \"))\n",
    "\n",
    "if avg1 >= 80 :\n",
    "    print(\"Grade A\")\n",
    "elif (avg1 >= 60  and avg1 < 80) :\n",
    "    print(\"Grade B\")\n",
    "else :\n",
    "    print(\"Grade C\")\n",
    "    \n",
    "    \n",
    "print(\"******************************************************\")\n",
    "\n",
    "res1 =\"GRADE A\" if avg1 >= 80 else (\"GRADE B\" if avg1 >=60 and avg1 < 80 else \"GRADE C\")\n",
    "print(res1)"
   ]
  },
  {
   "cell_type": "code",
   "execution_count": 23,
   "id": "84aeba74",
   "metadata": {},
   "outputs": [
    {
     "name": "stdout",
     "output_type": "stream",
     "text": [
      "GRADE B\n"
     ]
    }
   ],
   "source": [
    "res1 =\"GRADE A\" if avg1 >= 80 else (\"GRADE B\" if avg1 >=60 and avg1 < 80 else \"GRADE C\")\n",
    "print(res1)"
   ]
  },
  {
   "cell_type": "code",
   "execution_count": 24,
   "id": "96a25b1d",
   "metadata": {},
   "outputs": [],
   "source": [
    "# Greatest of Three Numbers"
   ]
  },
  {
   "cell_type": "code",
   "execution_count": 26,
   "id": "9408dacf",
   "metadata": {},
   "outputs": [
    {
     "name": "stdout",
     "output_type": "stream",
     "text": [
      "Enter First Number : 100\n",
      "Enter Second Number : 56\n",
      "Enter Third Number : 102\n",
      "102 is Greatests\n",
      "****************************************************\n",
      "102 is Greatest\n"
     ]
    }
   ],
   "source": [
    "num1  = int(input(\"Enter First Number : \"))\n",
    "num2 = int(input(\"Enter Second Number : \"))\n",
    "num3 = int(input(\"Enter Third Number : \"))\n",
    "\n",
    "if num1 >= num2  and num1 >= num3 :\n",
    "    print(num1,\"is Greatest \")\n",
    "    \n",
    "elif num2 >= num3:\n",
    "    print(num2,\"is Greatest\")\n",
    "  \n",
    "else:\n",
    "    print(num3,\"is Greatests\")\n",
    "    \n",
    "print(\"****************************************************\")\n",
    "\n",
    "res3 = num1 if (num1 >= num2 and num1 >= num3) else (num2 if num2 >= num3 else num3)\n",
    "print(res3,\"is Greatest\")\n"
   ]
  },
  {
   "cell_type": "code",
   "execution_count": 27,
   "id": "0b33055e",
   "metadata": {},
   "outputs": [
    {
     "name": "stdout",
     "output_type": "stream",
     "text": [
      "102 is Greatest\n"
     ]
    }
   ],
   "source": [
    "res3 = num1 if (num1 >= num2 and num1 >= num3) else (num2 if num2 >= num3 else num3)\n",
    "print(res3,\"is Greatest\")"
   ]
  },
  {
   "cell_type": "markdown",
   "id": "438e9fa2",
   "metadata": {},
   "source": [
    "### Iterative Statements : \n",
    "* it is a process of executing block of code repeatedly until a condition is satisfied.\n",
    "* Definite loop :(for loop)\n",
    "     * a loop which is executed finite number of times\n",
    "     * in this the number of iterations are predefined\n",
    "* Indefinite loop :(while loop)\n",
    "     * a loop which is executed infinite number of times\n",
    "     * in this the number of iterations are not predefined"
   ]
  },
  {
   "cell_type": "markdown",
   "id": "1fe00982",
   "metadata": {},
   "source": [
    "#### While Loop "
   ]
  },
  {
   "cell_type": "code",
   "execution_count": 31,
   "id": "aac59d3c",
   "metadata": {},
   "outputs": [],
   "source": [
    "# fabonacci series from 1 to 10"
   ]
  },
  {
   "cell_type": "code",
   "execution_count": 35,
   "id": "937df152",
   "metadata": {},
   "outputs": [
    {
     "name": "stdout",
     "output_type": "stream",
     "text": [
      "0\n",
      "1\n",
      "2\n",
      "3\n",
      "5\n",
      "8\n",
      "13\n"
     ]
    }
   ],
   "source": [
    "x = 0\n",
    "y = 1\n",
    "z = x+y\n",
    "print(x)\n",
    "print(y)\n",
    "while(z<=10):\n",
    "    x=y\n",
    "    y=z\n",
    "    z=x+y\n",
    "    print(z)\n",
    "    \n",
    "    "
   ]
  },
  {
   "cell_type": "code",
   "execution_count": 36,
   "id": "d0b24cb6",
   "metadata": {},
   "outputs": [],
   "source": [
    "# table printing"
   ]
  },
  {
   "cell_type": "code",
   "execution_count": 37,
   "id": "efde7163",
   "metadata": {},
   "outputs": [
    {
     "name": "stdout",
     "output_type": "stream",
     "text": [
      "enter table number : 4\n",
      "4 * 1 = 4\n",
      "4 * 2 = 8\n",
      "4 * 3 = 12\n",
      "4 * 4 = 16\n",
      "4 * 5 = 20\n",
      "4 * 6 = 24\n",
      "4 * 7 = 28\n",
      "4 * 8 = 32\n",
      "4 * 9 = 36\n",
      "4 * 10 = 40\n"
     ]
    }
   ],
   "source": [
    "num = int(input(\"enter table number : \"))\n",
    "i = 1\n",
    "while(i<=10):\n",
    "    print(num ,\"*\",i,\"=\",(num*i))\n",
    "    i+=1"
   ]
  },
  {
   "cell_type": "markdown",
   "id": "949dc122",
   "metadata": {},
   "source": [
    "### for loop :\n",
    "* specially designed to extract data from sequential data type\n",
    "* syntax :\n",
    "       for <iterator> in <iterable> :\n",
    "               print(<iterator>)\n",
    "* iterator : it is an object which acts like an agent in extracting data from sequential data type(iterable)\n",
    "* iterable : it is an object on which a process of iteration is performed"
   ]
  },
  {
   "cell_type": "code",
   "execution_count": 39,
   "id": "f0a8d1b6",
   "metadata": {},
   "outputs": [
    {
     "name": "stdout",
     "output_type": "stream",
     "text": [
      "Enter a Table number : 5\n",
      "5 * 1 == 5\n",
      "5 * 2 == 10\n",
      "5 * 3 == 15\n",
      "5 * 4 == 20\n",
      "5 * 5 == 25\n",
      "5 * 6 == 30\n",
      "5 * 7 == 35\n",
      "5 * 8 == 40\n",
      "5 * 9 == 45\n",
      "5 * 10 == 50\n"
     ]
    }
   ],
   "source": [
    "num = int(input(\"Enter a Table number : \"))\n",
    "\n",
    "for i in range(1,11):\n",
    "    print(x,\"*\",i,\"==\",(x*i) )\n",
    "    "
   ]
  },
  {
   "cell_type": "markdown",
   "id": "1c780759",
   "metadata": {},
   "source": [
    "## Interruptive statements :\n",
    "* these statements are used to interrupt the flow of execution.\n",
    "   * break\n",
    "   * pass\n",
    "   * continue"
   ]
  },
  {
   "cell_type": "code",
   "execution_count": 43,
   "id": "3ced7788",
   "metadata": {},
   "outputs": [
    {
     "name": "stdout",
     "output_type": "stream",
     "text": [
      "enter number range : 6\n",
      "1\n",
      "2\n",
      "3\n",
      "4\n",
      "5\n",
      "6\n"
     ]
    }
   ],
   "source": [
    "# printing numbers upto given range\n",
    "\n",
    "num = int(input(\"enter number range : \"))\n",
    "i = 1\n",
    "while True :\n",
    "    if i<=num:\n",
    "        print(i)\n",
    "        i+=1\n",
    "    else :\n",
    "        break\n",
    "    "
   ]
  },
  {
   "cell_type": "code",
   "execution_count": 44,
   "id": "7060a6b7",
   "metadata": {},
   "outputs": [
    {
     "name": "stdout",
     "output_type": "stream",
     "text": [
      "1\n",
      "2\n",
      "3\n",
      "4\n",
      "5\n",
      "6\n",
      "8\n",
      "9\n"
     ]
    }
   ],
   "source": [
    "# print numbers upto 10 except 7\n",
    "\n",
    "for i in range(1,10):\n",
    "    if i==7:\n",
    "        continue\n",
    "    else :\n",
    "        print(i)"
   ]
  },
  {
   "cell_type": "code",
   "execution_count": 45,
   "id": "09f9e6ad",
   "metadata": {},
   "outputs": [
    {
     "name": "stdout",
     "output_type": "stream",
     "text": [
      "welcome\n"
     ]
    }
   ],
   "source": [
    "for i in range(5):\n",
    "    pass\n",
    "print(\"welcome\")"
   ]
  },
  {
   "cell_type": "code",
   "execution_count": 46,
   "id": "6a4345d1",
   "metadata": {},
   "outputs": [
    {
     "name": "stdout",
     "output_type": "stream",
     "text": [
      "1\n",
      "2\n",
      "3\n",
      "4\n",
      "5\n",
      "6\n",
      "8\n",
      "9\n"
     ]
    }
   ],
   "source": [
    "for i in range(1,10):\n",
    "    if i==7:\n",
    "        exit()\n",
    "    else :\n",
    "        print(i)"
   ]
  },
  {
   "cell_type": "code",
   "execution_count": null,
   "id": "68ef2bfd",
   "metadata": {},
   "outputs": [],
   "source": []
  }
 ],
 "metadata": {
  "kernelspec": {
   "display_name": "Python 3 (ipykernel)",
   "language": "python",
   "name": "python3"
  },
  "language_info": {
   "codemirror_mode": {
    "name": "ipython",
    "version": 3
   },
   "file_extension": ".py",
   "mimetype": "text/x-python",
   "name": "python",
   "nbconvert_exporter": "python",
   "pygments_lexer": "ipython3",
   "version": "3.9.13"
  }
 },
 "nbformat": 4,
 "nbformat_minor": 5
}
