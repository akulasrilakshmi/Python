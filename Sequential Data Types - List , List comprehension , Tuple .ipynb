{
 "cells": [
  {
   "cell_type": "markdown",
   "id": "2ba7ad33",
   "metadata": {},
   "source": [
    "## Sequential Data Type :\n",
    "* it holds multiple heterogenous values stored in series of internal memory location indentified with index.\n",
    "* types of squential data type :\n",
    "        * list\n",
    "        * tuple\n",
    "        * set \n",
    "        * dictionary\n",
    "    "
   ]
  },
  {
   "cell_type": "markdown",
   "id": "4a73234a",
   "metadata": {},
   "source": [
    "## List :\n",
    "* it is a sequential data type which holds multiple heterogenous values , these values are enclosed in square brackets.the values inside the square brackets are referred as elements."
   ]
  },
  {
   "cell_type": "markdown",
   "id": "d100fb16",
   "metadata": {},
   "source": [
    "## Features of List :\n",
    "* holds multiple heterogenous values\n",
    "* duplicates are allowed\n",
    "* mutable( changable )\n",
    "* order is preserved ( order initially will not change until we explicitly change )\n",
    "* indexing & slicing is possible\n",
    "* nesting is possible"
   ]
  },
  {
   "cell_type": "code",
   "execution_count": 5,
   "id": "ffe86bed",
   "metadata": {},
   "outputs": [],
   "source": [
    "color = [\"red\" , \"black\" , \"pink\" , \"yellow\" , \"orange\"]"
   ]
  },
  {
   "cell_type": "code",
   "execution_count": 6,
   "id": "faf1baf2",
   "metadata": {},
   "outputs": [
    {
     "data": {
      "text/plain": [
       "list"
      ]
     },
     "execution_count": 6,
     "metadata": {},
     "output_type": "execute_result"
    }
   ],
   "source": [
    "type(color)"
   ]
  },
  {
   "cell_type": "code",
   "execution_count": 11,
   "id": "88045c3c",
   "metadata": {},
   "outputs": [],
   "source": [
    "color1 = [\"red\" , \"black\" , \"pink\" , \"yellow\" , \"orange\" , \"red\"] # duplicates are allowed"
   ]
  },
  {
   "cell_type": "code",
   "execution_count": 12,
   "id": "92fc369d",
   "metadata": {},
   "outputs": [
    {
     "data": {
      "text/plain": [
       "list"
      ]
     },
     "execution_count": 12,
     "metadata": {},
     "output_type": "execute_result"
    }
   ],
   "source": [
    "type(color1)"
   ]
  },
  {
   "cell_type": "code",
   "execution_count": 13,
   "id": "30c398ee",
   "metadata": {},
   "outputs": [
    {
     "data": {
      "text/plain": [
       "['red', 'black', 'pink', 'yellow', 'orange', 'red', 'green']"
      ]
     },
     "execution_count": 13,
     "metadata": {},
     "output_type": "execute_result"
    }
   ],
   "source": [
    "color1.append(\"green\") # changable\n",
    "color1"
   ]
  },
  {
   "cell_type": "code",
   "execution_count": 14,
   "id": "54ba34ff",
   "metadata": {},
   "outputs": [
    {
     "data": {
      "text/plain": [
       "'yellow'"
      ]
     },
     "execution_count": 14,
     "metadata": {},
     "output_type": "execute_result"
    }
   ],
   "source": [
    "color[3] # positive indexing"
   ]
  },
  {
   "cell_type": "code",
   "execution_count": 15,
   "id": "08e1b880",
   "metadata": {},
   "outputs": [
    {
     "data": {
      "text/plain": [
       "'yellow'"
      ]
     },
     "execution_count": 15,
     "metadata": {},
     "output_type": "execute_result"
    }
   ],
   "source": [
    "color[-2] # negative indexing"
   ]
  },
  {
   "cell_type": "code",
   "execution_count": 16,
   "id": "3741b144",
   "metadata": {},
   "outputs": [],
   "source": [
    "nlist = [\"Blue\",[10,20,30],\"Pink\",[\"A\",\"B\",\"C\"],\"Yellow\"] # nesting ids possible"
   ]
  },
  {
   "cell_type": "code",
   "execution_count": 17,
   "id": "3fdfa682",
   "metadata": {},
   "outputs": [
    {
     "data": {
      "text/plain": [
       "list"
      ]
     },
     "execution_count": 17,
     "metadata": {},
     "output_type": "execute_result"
    }
   ],
   "source": [
    "type(nlist)"
   ]
  },
  {
   "cell_type": "code",
   "execution_count": null,
   "id": "076d7c42",
   "metadata": {},
   "outputs": [],
   "source": []
  },
  {
   "cell_type": "markdown",
   "id": "abdad81c",
   "metadata": {},
   "source": [
    "## CRUD operations:\n",
    "* create\n",
    "* read\n",
    "* update\n",
    "* delete"
   ]
  },
  {
   "cell_type": "markdown",
   "id": "f42e8afd",
   "metadata": {},
   "source": [
    "### Creation of list :\n",
    "* we can create a list in 3 ways :\n",
    "    * manual way\n",
    "    * using list function\n",
    "    * automated way\n",
    "    "
   ]
  },
  {
   "cell_type": "markdown",
   "id": "7117da20",
   "metadata": {},
   "source": [
    "### manual way :"
   ]
  },
  {
   "cell_type": "code",
   "execution_count": 2,
   "id": "0c548a3a",
   "metadata": {},
   "outputs": [],
   "source": [
    "l1 = [\"apple\" , 67 , 90 , \"hello\"]"
   ]
  },
  {
   "cell_type": "code",
   "execution_count": 3,
   "id": "294cc7e3",
   "metadata": {},
   "outputs": [
    {
     "data": {
      "text/plain": [
       "list"
      ]
     },
     "execution_count": 3,
     "metadata": {},
     "output_type": "execute_result"
    }
   ],
   "source": [
    "type(l1)"
   ]
  },
  {
   "cell_type": "code",
   "execution_count": 19,
   "id": "68143732",
   "metadata": {},
   "outputs": [
    {
     "data": {
      "text/plain": [
       "['red', 'black', 'pink', 'yellow', 'orange']"
      ]
     },
     "execution_count": 19,
     "metadata": {},
     "output_type": "execute_result"
    }
   ],
   "source": [
    "color"
   ]
  },
  {
   "cell_type": "markdown",
   "id": "eb70e91a",
   "metadata": {},
   "source": [
    "### Using list()"
   ]
  },
  {
   "cell_type": "code",
   "execution_count": 22,
   "id": "fbcd198a",
   "metadata": {},
   "outputs": [],
   "source": [
    "clr = list((\"red\" , \"pink\" , \"yellow\" , \"blue\"))"
   ]
  },
  {
   "cell_type": "code",
   "execution_count": 23,
   "id": "f374c982",
   "metadata": {},
   "outputs": [
    {
     "data": {
      "text/plain": [
       "['red', 'pink', 'yellow', 'blue']"
      ]
     },
     "execution_count": 23,
     "metadata": {},
     "output_type": "execute_result"
    }
   ],
   "source": [
    "clr"
   ]
  },
  {
   "cell_type": "code",
   "execution_count": 24,
   "id": "b6a2204a",
   "metadata": {},
   "outputs": [
    {
     "data": {
      "text/plain": [
       "list"
      ]
     },
     "execution_count": 24,
     "metadata": {},
     "output_type": "execute_result"
    }
   ],
   "source": [
    "type(clr)"
   ]
  },
  {
   "cell_type": "code",
   "execution_count": 25,
   "id": "0babe948",
   "metadata": {},
   "outputs": [],
   "source": [
    "s = \"INDIA\""
   ]
  },
  {
   "cell_type": "code",
   "execution_count": 26,
   "id": "2dce5ccc",
   "metadata": {},
   "outputs": [],
   "source": [
    "s1 = list(s)"
   ]
  },
  {
   "cell_type": "code",
   "execution_count": 27,
   "id": "c0af28fc",
   "metadata": {},
   "outputs": [
    {
     "data": {
      "text/plain": [
       "['I', 'N', 'D', 'I', 'A']"
      ]
     },
     "execution_count": 27,
     "metadata": {},
     "output_type": "execute_result"
    }
   ],
   "source": [
    "s1"
   ]
  },
  {
   "cell_type": "code",
   "execution_count": 28,
   "id": "ed24fbb6",
   "metadata": {},
   "outputs": [
    {
     "data": {
      "text/plain": [
       "list"
      ]
     },
     "execution_count": 28,
     "metadata": {},
     "output_type": "execute_result"
    }
   ],
   "source": [
    "type(s1)"
   ]
  },
  {
   "cell_type": "markdown",
   "id": "137abf22",
   "metadata": {},
   "source": [
    "### Automated way"
   ]
  },
  {
   "cell_type": "code",
   "execution_count": 6,
   "id": "f5970bc7",
   "metadata": {},
   "outputs": [
    {
     "name": "stdout",
     "output_type": "stream",
     "text": [
      "[1, 8, 27, 64, 125]\n"
     ]
    }
   ],
   "source": [
    "# generating cubes from 1 to 5\n",
    "\n",
    "cube_list = []\n",
    "for i in range(1,6):\n",
    "    cube = i**3\n",
    "    cube_list.append(cube)\n",
    "    \n",
    "print(cube_list)"
   ]
  },
  {
   "cell_type": "markdown",
   "id": "04cac3cb",
   "metadata": {},
   "source": [
    "### Nested List"
   ]
  },
  {
   "cell_type": "code",
   "execution_count": 30,
   "id": "0318812e",
   "metadata": {},
   "outputs": [],
   "source": [
    "nlist = [\"Blue\",[10,20,30],\"Pink\",[\"A\",\"B\",\"C\"],\"Yellow\"]"
   ]
  },
  {
   "cell_type": "code",
   "execution_count": 31,
   "id": "fcb0db91",
   "metadata": {},
   "outputs": [
    {
     "data": {
      "text/plain": [
       "list"
      ]
     },
     "execution_count": 31,
     "metadata": {},
     "output_type": "execute_result"
    }
   ],
   "source": [
    "type(nlist)"
   ]
  },
  {
   "cell_type": "code",
   "execution_count": 33,
   "id": "ef03c687",
   "metadata": {},
   "outputs": [
    {
     "name": "stdout",
     "output_type": "stream",
     "text": [
      "9\n"
     ]
    }
   ],
   "source": [
    "# counting the number of elements inside a nested list\n",
    "\n",
    "c = 0\n",
    "for i in nlist:\n",
    "    if type(i)==list:\n",
    "        for j in i:\n",
    "            c+=1\n",
    "    else:\n",
    "        c+=1\n",
    "        \n",
    "print(c)"
   ]
  },
  {
   "cell_type": "markdown",
   "id": "1da0c13e",
   "metadata": {},
   "source": [
    "### Read Data from List :\n",
    "* we can read the data inside the list using :\n",
    "     * for loop # specially designed to extract data from sequential data types.\n",
    "     * indexing\n",
    "     * slicing\n"
   ]
  },
  {
   "cell_type": "markdown",
   "id": "5bee99ce",
   "metadata": {},
   "source": [
    "#### using for loop"
   ]
  },
  {
   "cell_type": "code",
   "execution_count": 39,
   "id": "5b99e0a8",
   "metadata": {},
   "outputs": [],
   "source": [
    " l1 = [10 , \"hello\" , 56.0 , True]"
   ]
  },
  {
   "cell_type": "code",
   "execution_count": 36,
   "id": "8e889ccb",
   "metadata": {},
   "outputs": [
    {
     "data": {
      "text/plain": [
       "list"
      ]
     },
     "execution_count": 36,
     "metadata": {},
     "output_type": "execute_result"
    }
   ],
   "source": [
    "type(l1)"
   ]
  },
  {
   "cell_type": "code",
   "execution_count": 37,
   "id": "7308f501",
   "metadata": {},
   "outputs": [
    {
     "name": "stdout",
     "output_type": "stream",
     "text": [
      "10\n",
      "hello\n",
      "56.0\n",
      "True\n"
     ]
    }
   ],
   "source": [
    "for i in l1 :\n",
    "    print(i)"
   ]
  },
  {
   "cell_type": "markdown",
   "id": "5a280cad",
   "metadata": {},
   "source": [
    "#### using indexing"
   ]
  },
  {
   "cell_type": "code",
   "execution_count": 42,
   "id": "16ea3ac4",
   "metadata": {},
   "outputs": [
    {
     "data": {
      "text/plain": [
       "[10, 'hello', 56.0, True]"
      ]
     },
     "execution_count": 42,
     "metadata": {},
     "output_type": "execute_result"
    }
   ],
   "source": [
    "l1"
   ]
  },
  {
   "cell_type": "code",
   "execution_count": 43,
   "id": "49436074",
   "metadata": {},
   "outputs": [
    {
     "data": {
      "text/plain": [
       "56.0"
      ]
     },
     "execution_count": 43,
     "metadata": {},
     "output_type": "execute_result"
    }
   ],
   "source": [
    "l1[2]"
   ]
  },
  {
   "cell_type": "code",
   "execution_count": 44,
   "id": "90a25cad",
   "metadata": {},
   "outputs": [
    {
     "data": {
      "text/plain": [
       "'hello'"
      ]
     },
     "execution_count": 44,
     "metadata": {},
     "output_type": "execute_result"
    }
   ],
   "source": [
    "l1[-3]"
   ]
  },
  {
   "cell_type": "code",
   "execution_count": 45,
   "id": "a2590c8a",
   "metadata": {},
   "outputs": [
    {
     "data": {
      "text/plain": [
       "10"
      ]
     },
     "execution_count": 45,
     "metadata": {},
     "output_type": "execute_result"
    }
   ],
   "source": [
    "l1[0]"
   ]
  },
  {
   "cell_type": "markdown",
   "id": "8985dfab",
   "metadata": {},
   "source": [
    "#### using slicing"
   ]
  },
  {
   "cell_type": "code",
   "execution_count": 47,
   "id": "9a3be6fe",
   "metadata": {},
   "outputs": [
    {
     "data": {
      "text/plain": [
       "[10, 'hello', 56.0, True]"
      ]
     },
     "execution_count": 47,
     "metadata": {},
     "output_type": "execute_result"
    }
   ],
   "source": [
    "l1"
   ]
  },
  {
   "cell_type": "code",
   "execution_count": 48,
   "id": "36b49a89",
   "metadata": {},
   "outputs": [
    {
     "data": {
      "text/plain": [
       "[10, 'hello', 56.0, True]"
      ]
     },
     "execution_count": 48,
     "metadata": {},
     "output_type": "execute_result"
    }
   ],
   "source": [
    "l1[:]"
   ]
  },
  {
   "cell_type": "code",
   "execution_count": 49,
   "id": "f90b0c4e",
   "metadata": {},
   "outputs": [
    {
     "data": {
      "text/plain": [
       "[10, 'hello', 56.0]"
      ]
     },
     "execution_count": 49,
     "metadata": {},
     "output_type": "execute_result"
    }
   ],
   "source": [
    "l1[:3]"
   ]
  },
  {
   "cell_type": "code",
   "execution_count": 51,
   "id": "c01945b9",
   "metadata": {},
   "outputs": [
    {
     "data": {
      "text/plain": [
       "[True, 56.0]"
      ]
     },
     "execution_count": 51,
     "metadata": {},
     "output_type": "execute_result"
    }
   ],
   "source": [
    "l1[3:1:-1]"
   ]
  },
  {
   "cell_type": "markdown",
   "id": "f50308f5",
   "metadata": {},
   "source": [
    "### Updating the List :\n",
    "* Inserting a Value into list\n",
    "* append()\n",
    "   * It accepts only one value and append that value\n",
    "   * as element of list.\n",
    "   * It appends value at the last.\n",
    "* extend()\n",
    "   * It accepts multi values in the form of sequential\n",
    "   * data type and insert these multi values as elements of list.\n",
    "* insert()\n",
    "   * we can insert elements at our required position"
   ]
  },
  {
   "cell_type": "markdown",
   "id": "9fab3939",
   "metadata": {},
   "source": [
    "#### using append()"
   ]
  },
  {
   "cell_type": "code",
   "execution_count": 54,
   "id": "fac907a6",
   "metadata": {},
   "outputs": [],
   "source": [
    "mlist = [\"hello\" , 89 , 23.5 , False , \"world\"]"
   ]
  },
  {
   "cell_type": "code",
   "execution_count": 55,
   "id": "71a05437",
   "metadata": {},
   "outputs": [
    {
     "data": {
      "text/plain": [
       "list"
      ]
     },
     "execution_count": 55,
     "metadata": {},
     "output_type": "execute_result"
    }
   ],
   "source": [
    "type( mlist )"
   ]
  },
  {
   "cell_type": "code",
   "execution_count": 56,
   "id": "e1e49580",
   "metadata": {},
   "outputs": [],
   "source": [
    "mlist.append(90)"
   ]
  },
  {
   "cell_type": "code",
   "execution_count": 57,
   "id": "8f2bb0c0",
   "metadata": {},
   "outputs": [
    {
     "data": {
      "text/plain": [
       "['hello', 89, 23.5, False, 'world', 90]"
      ]
     },
     "execution_count": 57,
     "metadata": {},
     "output_type": "execute_result"
    }
   ],
   "source": [
    "mlist"
   ]
  },
  {
   "cell_type": "code",
   "execution_count": 58,
   "id": "4f7f4a88",
   "metadata": {},
   "outputs": [],
   "source": [
    "mlist.append([45,67]) # it will not append as a individual element"
   ]
  },
  {
   "cell_type": "code",
   "execution_count": 59,
   "id": "68adedb6",
   "metadata": {},
   "outputs": [
    {
     "data": {
      "text/plain": [
       "['hello', 89, 23.5, False, 'world', 90, [45, 67]]"
      ]
     },
     "execution_count": 59,
     "metadata": {},
     "output_type": "execute_result"
    }
   ],
   "source": [
    "mlist"
   ]
  },
  {
   "cell_type": "code",
   "execution_count": 60,
   "id": "ca90fcc2",
   "metadata": {},
   "outputs": [],
   "source": [
    "nlist1 = [\"hello\" , 89 , 23.5 ]"
   ]
  },
  {
   "cell_type": "code",
   "execution_count": 61,
   "id": "8684498d",
   "metadata": {},
   "outputs": [
    {
     "data": {
      "text/plain": [
       "list"
      ]
     },
     "execution_count": 61,
     "metadata": {},
     "output_type": "execute_result"
    }
   ],
   "source": [
    "type( nlist1 )"
   ]
  },
  {
   "cell_type": "markdown",
   "id": "eccd970e",
   "metadata": {},
   "source": [
    "#### using extend()"
   ]
  },
  {
   "cell_type": "code",
   "execution_count": 65,
   "id": "3af33da6",
   "metadata": {},
   "outputs": [],
   "source": [
    "nlist1.extend([90,78])"
   ]
  },
  {
   "cell_type": "code",
   "execution_count": 66,
   "id": "cac79068",
   "metadata": {},
   "outputs": [
    {
     "data": {
      "text/plain": [
       "['hello', 89, 23.5, 90, 78]"
      ]
     },
     "execution_count": 66,
     "metadata": {},
     "output_type": "execute_result"
    }
   ],
   "source": [
    "nlist1"
   ]
  },
  {
   "cell_type": "code",
   "execution_count": 69,
   "id": "4bfd1596",
   "metadata": {},
   "outputs": [
    {
     "data": {
      "text/plain": [
       "['hello', 89, 23.5, 90, 78]"
      ]
     },
     "execution_count": 69,
     "metadata": {},
     "output_type": "execute_result"
    }
   ],
   "source": [
    "nlist1"
   ]
  },
  {
   "cell_type": "code",
   "execution_count": 73,
   "id": "773dd0da",
   "metadata": {},
   "outputs": [
    {
     "ename": "TypeError",
     "evalue": "insert expected 2 arguments, got 1",
     "output_type": "error",
     "traceback": [
      "\u001b[1;31m---------------------------------------------------------------------------\u001b[0m",
      "\u001b[1;31mTypeError\u001b[0m                                 Traceback (most recent call last)",
      "\u001b[1;32m~\\AppData\\Local\\Temp\\ipykernel_13560\\1803670518.py\u001b[0m in \u001b[0;36m<module>\u001b[1;34m\u001b[0m\n\u001b[1;32m----> 1\u001b[1;33m \u001b[0mnlist1\u001b[0m\u001b[1;33m.\u001b[0m\u001b[0minsert\u001b[0m\u001b[1;33m(\u001b[0m\u001b[1;34m\"apple\"\u001b[0m\u001b[1;33m)\u001b[0m \u001b[1;31m# it accepts 2 arguments , we have to give position as 1st argument and element as 2nd argument\u001b[0m\u001b[1;33m\u001b[0m\u001b[1;33m\u001b[0m\u001b[0m\n\u001b[0m",
      "\u001b[1;31mTypeError\u001b[0m: insert expected 2 arguments, got 1"
     ]
    }
   ],
   "source": [
    "nlist1.insert(\"apple\") # it accepts 2 arguments , we have to give position as 1st argument and element as 2nd argument"
   ]
  },
  {
   "cell_type": "markdown",
   "id": "fbb20c6b",
   "metadata": {},
   "source": [
    "#### using insert()"
   ]
  },
  {
   "cell_type": "code",
   "execution_count": 71,
   "id": "356f0be4",
   "metadata": {},
   "outputs": [],
   "source": [
    "nlist1.insert(1,\"apple\")"
   ]
  },
  {
   "cell_type": "code",
   "execution_count": 77,
   "id": "ad10aae5",
   "metadata": {},
   "outputs": [
    {
     "data": {
      "text/plain": [
       "['hello', 'apple', 89, 23.5, 90, 78]"
      ]
     },
     "execution_count": 77,
     "metadata": {},
     "output_type": "execute_result"
    }
   ],
   "source": [
    "nlist1"
   ]
  },
  {
   "cell_type": "code",
   "execution_count": 80,
   "id": "3035748c",
   "metadata": {},
   "outputs": [
    {
     "ename": "SyntaxError",
     "evalue": "invalid syntax (3308642028.py, line 1)",
     "output_type": "error",
     "traceback": [
      "\u001b[1;36m  File \u001b[1;32m\"C:\\Users\\Akula Srilakshmi\\AppData\\Local\\Temp\\ipykernel_13560\\3308642028.py\"\u001b[1;36m, line \u001b[1;32m1\u001b[0m\n\u001b[1;33m    nlist1.insert( [1:4] , 100 ) # we cannotb give indexing and slicing as an argument in insert()\u001b[0m\n\u001b[1;37m                     ^\u001b[0m\n\u001b[1;31mSyntaxError\u001b[0m\u001b[1;31m:\u001b[0m invalid syntax\n"
     ]
    }
   ],
   "source": [
    "nlist1.insert( [1:4] , 100 ) # we cannotb give indexing and slicing as an argument in insert()"
   ]
  },
  {
   "cell_type": "markdown",
   "id": "0334c314",
   "metadata": {},
   "source": [
    "### State of ambiquity :\n",
    "* list doesn't have a replace(), we cannot insert multiple elements as individual elements inside a insert() inorder to overcome this we use state of ambiquity. "
   ]
  },
  {
   "cell_type": "code",
   "execution_count": 88,
   "id": "c0510829",
   "metadata": {},
   "outputs": [
    {
     "data": {
      "text/plain": [
       "['red', 'black', 'pink', 'yellow', 'orange']"
      ]
     },
     "execution_count": 88,
     "metadata": {},
     "output_type": "execute_result"
    }
   ],
   "source": [
    "color"
   ]
  },
  {
   "cell_type": "code",
   "execution_count": 89,
   "id": "6d2ca4fc",
   "metadata": {},
   "outputs": [],
   "source": [
    "color.insert(1,[100 , 56])"
   ]
  },
  {
   "cell_type": "code",
   "execution_count": 91,
   "id": "7215e51c",
   "metadata": {},
   "outputs": [
    {
     "data": {
      "text/plain": [
       "['red', [100, 56], 'black', 'pink', 'yellow', 'orange']"
      ]
     },
     "execution_count": 91,
     "metadata": {},
     "output_type": "execute_result"
    }
   ],
   "source": [
    "color # we cannot insert as a individual elements"
   ]
  },
  {
   "cell_type": "code",
   "execution_count": 94,
   "id": "89ace9a6",
   "metadata": {},
   "outputs": [],
   "source": [
    "color[ 4 : 4 :1] = [\"sun\",\"moon\"] # state of ambiquity"
   ]
  },
  {
   "cell_type": "code",
   "execution_count": 96,
   "id": "3c22b39b",
   "metadata": {},
   "outputs": [
    {
     "name": "stdout",
     "output_type": "stream",
     "text": [
      "['red', [100, 56], 'black', 'pink', 'sun', 'moon', 'sun', 'moon', 'yellow', 'orange']\n"
     ]
    }
   ],
   "source": [
    "print(color)"
   ]
  },
  {
   "cell_type": "markdown",
   "id": "0264c50e",
   "metadata": {},
   "source": [
    "### Deletion of list :\n",
    "* we can delete the elements of list using :\n",
    "    * del\n",
    "    * pop\n",
    "    * remove"
   ]
  },
  {
   "cell_type": "code",
   "execution_count": 99,
   "id": "aba22ef8",
   "metadata": {},
   "outputs": [
    {
     "data": {
      "text/plain": [
       "['hello', 89, 23.5, False, 'world', 90, [45, 67]]"
      ]
     },
     "execution_count": 99,
     "metadata": {},
     "output_type": "execute_result"
    }
   ],
   "source": [
    "mlist"
   ]
  },
  {
   "cell_type": "code",
   "execution_count": 100,
   "id": "390fca9a",
   "metadata": {},
   "outputs": [],
   "source": [
    "del mlist[-1]"
   ]
  },
  {
   "cell_type": "code",
   "execution_count": 101,
   "id": "9086bea7",
   "metadata": {},
   "outputs": [
    {
     "data": {
      "text/plain": [
       "['hello', 89, 23.5, False, 'world', 90]"
      ]
     },
     "execution_count": 101,
     "metadata": {},
     "output_type": "execute_result"
    }
   ],
   "source": [
    "mlist"
   ]
  },
  {
   "cell_type": "code",
   "execution_count": 102,
   "id": "a8fa47a9",
   "metadata": {},
   "outputs": [
    {
     "data": {
      "text/plain": [
       "23.5"
      ]
     },
     "execution_count": 102,
     "metadata": {},
     "output_type": "execute_result"
    }
   ],
   "source": [
    "mlist.pop(2) # it accepts index value as an argument , and returns the deleted value , by default it deletes the last element"
   ]
  },
  {
   "cell_type": "code",
   "execution_count": 103,
   "id": "78b751ca",
   "metadata": {},
   "outputs": [
    {
     "data": {
      "text/plain": [
       "['hello', 89, False, 'world', 90]"
      ]
     },
     "execution_count": 103,
     "metadata": {},
     "output_type": "execute_result"
    }
   ],
   "source": [
    "mlist"
   ]
  },
  {
   "cell_type": "code",
   "execution_count": 104,
   "id": "0f1a089c",
   "metadata": {},
   "outputs": [],
   "source": [
    "mlist.remove(False) # it accepts element as an argument"
   ]
  },
  {
   "cell_type": "code",
   "execution_count": 105,
   "id": "22abf458",
   "metadata": {},
   "outputs": [
    {
     "data": {
      "text/plain": [
       "['hello', 89, 'world', 90]"
      ]
     },
     "execution_count": 105,
     "metadata": {},
     "output_type": "execute_result"
    }
   ],
   "source": [
    "mlist"
   ]
  },
  {
   "cell_type": "code",
   "execution_count": 115,
   "id": "d3ce7331",
   "metadata": {},
   "outputs": [],
   "source": [
    "mlist[1 : 3] = \"\" # another way of deleting elements from list"
   ]
  },
  {
   "cell_type": "code",
   "execution_count": 116,
   "id": "c5f52e1d",
   "metadata": {},
   "outputs": [
    {
     "data": {
      "text/plain": [
       "['hello']"
      ]
     },
     "execution_count": 116,
     "metadata": {},
     "output_type": "execute_result"
    }
   ],
   "source": [
    "mlist"
   ]
  },
  {
   "cell_type": "code",
   "execution_count": 117,
   "id": "d258a90c",
   "metadata": {},
   "outputs": [
    {
     "name": "stdout",
     "output_type": "stream",
     "text": [
      "['__add__', '__class__', '__class_getitem__', '__contains__', '__delattr__', '__delitem__', '__dir__', '__doc__', '__eq__', '__format__', '__ge__', '__getattribute__', '__getitem__', '__gt__', '__hash__', '__iadd__', '__imul__', '__init__', '__init_subclass__', '__iter__', '__le__', '__len__', '__lt__', '__mul__', '__ne__', '__new__', '__reduce__', '__reduce_ex__', '__repr__', '__reversed__', '__rmul__', '__setattr__', '__setitem__', '__sizeof__', '__str__', '__subclasshook__', 'append', 'clear', 'copy', 'count', 'extend', 'index', 'insert', 'pop', 'remove', 'reverse', 'sort']\n"
     ]
    }
   ],
   "source": [
    "print(dir(list))"
   ]
  },
  {
   "cell_type": "code",
   "execution_count": 119,
   "id": "87d7303f",
   "metadata": {},
   "outputs": [],
   "source": [
    "l1 = [10,20,30,4,5,3,2]"
   ]
  },
  {
   "cell_type": "code",
   "execution_count": 120,
   "id": "81f90608",
   "metadata": {},
   "outputs": [
    {
     "data": {
      "text/plain": [
       "0"
      ]
     },
     "execution_count": 120,
     "metadata": {},
     "output_type": "execute_result"
    }
   ],
   "source": [
    "l1.index(10)"
   ]
  },
  {
   "cell_type": "code",
   "execution_count": 121,
   "id": "06189c19",
   "metadata": {},
   "outputs": [],
   "source": [
    "l1.sort() # ascending order"
   ]
  },
  {
   "cell_type": "code",
   "execution_count": 122,
   "id": "81bd2296",
   "metadata": {},
   "outputs": [
    {
     "data": {
      "text/plain": [
       "[2, 3, 4, 5, 10, 20, 30]"
      ]
     },
     "execution_count": 122,
     "metadata": {},
     "output_type": "execute_result"
    }
   ],
   "source": [
    "l1"
   ]
  },
  {
   "cell_type": "code",
   "execution_count": 123,
   "id": "71a9d4f6",
   "metadata": {},
   "outputs": [],
   "source": [
    "l1.sort(reverse = True) # descending order"
   ]
  },
  {
   "cell_type": "code",
   "execution_count": 124,
   "id": "07b18481",
   "metadata": {},
   "outputs": [
    {
     "data": {
      "text/plain": [
       "[30, 20, 10, 5, 4, 3, 2]"
      ]
     },
     "execution_count": 124,
     "metadata": {},
     "output_type": "execute_result"
    }
   ],
   "source": [
    "l1"
   ]
  },
  {
   "cell_type": "code",
   "execution_count": 125,
   "id": "c27d0c35",
   "metadata": {},
   "outputs": [],
   "source": [
    "l1.reverse() # reverse the elements"
   ]
  },
  {
   "cell_type": "code",
   "execution_count": 126,
   "id": "d9ae3ac7",
   "metadata": {},
   "outputs": [
    {
     "data": {
      "text/plain": [
       "[2, 3, 4, 5, 10, 20, 30]"
      ]
     },
     "execution_count": 126,
     "metadata": {},
     "output_type": "execute_result"
    }
   ],
   "source": [
    "l1"
   ]
  },
  {
   "cell_type": "code",
   "execution_count": 127,
   "id": "2308da29",
   "metadata": {},
   "outputs": [],
   "source": [
    "l1.clear()"
   ]
  },
  {
   "cell_type": "code",
   "execution_count": 128,
   "id": "f997f5d5",
   "metadata": {},
   "outputs": [
    {
     "data": {
      "text/plain": [
       "[]"
      ]
     },
     "execution_count": 128,
     "metadata": {},
     "output_type": "execute_result"
    }
   ],
   "source": [
    "l1"
   ]
  },
  {
   "cell_type": "markdown",
   "id": "37d830b3",
   "metadata": {},
   "source": [
    "## List Comprehension :\n",
    "* Very elegant way to define and create a list based on existing list or existing values.\n",
    "* very fast in execution."
   ]
  },
  {
   "cell_type": "markdown",
   "id": "88113ce1",
   "metadata": {},
   "source": [
    "### List comprehension using for loop :"
   ]
  },
  {
   "cell_type": "markdown",
   "id": "b402d063",
   "metadata": {},
   "source": [
    "### Syntax :\n",
    "    [ output expression    input sequence ]\n",
    "    \n"
   ]
  },
  {
   "cell_type": "code",
   "execution_count": 12,
   "id": "04820bdc",
   "metadata": {},
   "outputs": [],
   "source": [
    "# output expression --> the logic which generates the output.\n",
    "# input sequence    --> source of input ( usually for loop )."
   ]
  },
  {
   "cell_type": "code",
   "execution_count": 13,
   "id": "06f03c84",
   "metadata": {},
   "outputs": [
    {
     "name": "stdout",
     "output_type": "stream",
     "text": [
      "[1, 2, 3, 4, 5, 6, 7]\n"
     ]
    }
   ],
   "source": [
    "out = [i for i in range(1,8)]\n",
    "print( out )"
   ]
  },
  {
   "cell_type": "code",
   "execution_count": 14,
   "id": "9275f4b6",
   "metadata": {},
   "outputs": [
    {
     "name": "stdout",
     "output_type": "stream",
     "text": [
      "[1, 4, 9, 16]\n"
     ]
    }
   ],
   "source": [
    "out1 = [ i*i for i in range(1,5) ]\n",
    "print( out1 )"
   ]
  },
  {
   "cell_type": "markdown",
   "id": "b386e737",
   "metadata": {},
   "source": [
    "### List comprehension with if condition :\n",
    "    "
   ]
  },
  {
   "cell_type": "markdown",
   "id": "5b857395",
   "metadata": {},
   "source": [
    "### syntax :\n",
    "    [ output expression  input sequence  condition ]"
   ]
  },
  {
   "cell_type": "code",
   "execution_count": 17,
   "id": "f63e4b66",
   "metadata": {},
   "outputs": [
    {
     "data": {
      "text/plain": [
       "[2, 4, 6, 8, 10]"
      ]
     },
     "execution_count": 17,
     "metadata": {},
     "output_type": "execute_result"
    }
   ],
   "source": [
    "[ i  for i in range(1,11)  if i%2==0 ] # single if condition"
   ]
  },
  {
   "cell_type": "code",
   "execution_count": 19,
   "id": "0ae605ec",
   "metadata": {},
   "outputs": [
    {
     "data": {
      "text/plain": [
       "[6, 12, 18]"
      ]
     },
     "execution_count": 19,
     "metadata": {},
     "output_type": "execute_result"
    }
   ],
   "source": [
    "[ x for x in range(1,20) if x%2==0 and x%3==0 ] # multiple if conditions"
   ]
  },
  {
   "cell_type": "markdown",
   "id": "d4640f10",
   "metadata": {},
   "source": [
    "### List comprehension with if-else condition :"
   ]
  },
  {
   "cell_type": "markdown",
   "id": "f3ece6ad",
   "metadata": {},
   "source": [
    "### syntax :\n",
    "    [ output expression  if-else  input sequence ]"
   ]
  },
  {
   "cell_type": "code",
   "execution_count": 25,
   "id": "de60cbd9",
   "metadata": {},
   "outputs": [
    {
     "data": {
      "text/plain": [
       "['1 is odd', '2 is even', '3 is odd', '4 is even', '5 is odd', '6 is even']"
      ]
     },
     "execution_count": 25,
     "metadata": {},
     "output_type": "execute_result"
    }
   ],
   "source": [
    "[ str(x)+\" is even\" if x%2==0 else str(x)+\" is odd\" for x in range(1,7) ]"
   ]
  },
  {
   "cell_type": "markdown",
   "id": "6d7deba1",
   "metadata": {},
   "source": [
    "## Table Range using List Comprehension"
   ]
  },
  {
   "cell_type": "code",
   "execution_count": 29,
   "id": "fdcbcace",
   "metadata": {},
   "outputs": [
    {
     "name": "stdout",
     "output_type": "stream",
     "text": [
      "enter a table number : 2\n",
      "2 * 1 == 2\n",
      "2 * 2 == 4\n",
      "2 * 3 == 6\n",
      "2 * 4 == 8\n",
      "2 * 5 == 10\n",
      "2 * 6 == 12\n",
      "2 * 7 == 14\n",
      "2 * 8 == 16\n",
      "2 * 9 == 18\n",
      "2 * 10 == 20\n"
     ]
    }
   ],
   "source": [
    "num = int(input(\"enter a table number : \"))\n",
    "\n",
    "for i in range(1,11):\n",
    "    \n",
    "    print( str(num) + \" * \" + str(i) + \" == \" + str(num*i) )"
   ]
  },
  {
   "cell_type": "code",
   "execution_count": 30,
   "id": "aadc4af0",
   "metadata": {},
   "outputs": [
    {
     "name": "stdout",
     "output_type": "stream",
     "text": [
      "enter a table number : 3\n"
     ]
    },
    {
     "data": {
      "text/plain": [
       "['3 * 1 == 3',\n",
       " '3 * 2 == 6',\n",
       " '3 * 3 == 9',\n",
       " '3 * 4 == 12',\n",
       " '3 * 5 == 15',\n",
       " '3 * 6 == 18',\n",
       " '3 * 7 == 21',\n",
       " '3 * 8 == 24',\n",
       " '3 * 9 == 27',\n",
       " '3 * 10 == 30']"
      ]
     },
     "execution_count": 30,
     "metadata": {},
     "output_type": "execute_result"
    }
   ],
   "source": [
    "num = int(input(\"enter a table number : \"))\n",
    "\n",
    "[ str(num) + \" * \" + str(i) + \" == \" + str(num*i) for i in range(1,11)]"
   ]
  },
  {
   "cell_type": "code",
   "execution_count": 31,
   "id": "7f998395",
   "metadata": {},
   "outputs": [
    {
     "name": "stdout",
     "output_type": "stream",
     "text": [
      "Enter a Number Range : 4\n"
     ]
    },
    {
     "data": {
      "text/plain": [
       "['2 * 1 == 2',\n",
       " '2 * 2 == 4',\n",
       " '2 * 3 == 6',\n",
       " '2 * 4 == 8',\n",
       " '2 * 5 == 10',\n",
       " '2 * 6 == 12',\n",
       " '2 * 7 == 14',\n",
       " '2 * 8 == 16',\n",
       " '2 * 9 == 18',\n",
       " '2 * 10 == 20',\n",
       " '3 * 1 == 3',\n",
       " '3 * 2 == 6',\n",
       " '3 * 3 == 9',\n",
       " '3 * 4 == 12',\n",
       " '3 * 5 == 15',\n",
       " '3 * 6 == 18',\n",
       " '3 * 7 == 21',\n",
       " '3 * 8 == 24',\n",
       " '3 * 9 == 27',\n",
       " '3 * 10 == 30',\n",
       " '4 * 1 == 4',\n",
       " '4 * 2 == 8',\n",
       " '4 * 3 == 12',\n",
       " '4 * 4 == 16',\n",
       " '4 * 5 == 20',\n",
       " '4 * 6 == 24',\n",
       " '4 * 7 == 28',\n",
       " '4 * 8 == 32',\n",
       " '4 * 9 == 36',\n",
       " '4 * 10 == 40']"
      ]
     },
     "execution_count": 31,
     "metadata": {},
     "output_type": "execute_result"
    }
   ],
   "source": [
    "# printing tables from 2 to given range\n",
    "\n",
    "num = int(input(\"Enter a Number Range : \"))\n",
    "\n",
    "\n",
    "[str(x)+\" * \"+str(i)+\" == \"+str(x*i)   for x in range(2, num+1)  for i in range(1,11)   ]"
   ]
  },
  {
   "cell_type": "markdown",
   "id": "f036c044",
   "metadata": {},
   "source": [
    "## Nested List Comprehension :\n",
    "* best way to create a nested list."
   ]
  },
  {
   "cell_type": "markdown",
   "id": "c395041c",
   "metadata": {},
   "source": [
    "### Syntax :\n",
    "    [ [ output expression  input sequence ] input sequence ]"
   ]
  },
  {
   "cell_type": "code",
   "execution_count": 34,
   "id": "81117fa8",
   "metadata": {},
   "outputs": [
    {
     "data": {
      "text/plain": [
       "[[1, 2, 3, 4]]"
      ]
     },
     "execution_count": 34,
     "metadata": {},
     "output_type": "execute_result"
    }
   ],
   "source": [
    "[[ i for i in range(1,5)]]"
   ]
  },
  {
   "cell_type": "code",
   "execution_count": 35,
   "id": "b902732e",
   "metadata": {},
   "outputs": [
    {
     "data": {
      "text/plain": [
       "[[1, 2, 3, 4, 5], [1, 2, 3, 4, 5], [1, 2, 3, 4, 5]]"
      ]
     },
     "execution_count": 35,
     "metadata": {},
     "output_type": "execute_result"
    }
   ],
   "source": [
    "[[ x for x in range(1,6) ] for i in range(1,4)]"
   ]
  },
  {
   "cell_type": "markdown",
   "id": "782e6bb3",
   "metadata": {},
   "source": [
    "## Types of copy :\n",
    "* Reference copy\n",
    "* Shallow copy\n",
    "* Deep copy"
   ]
  },
  {
   "cell_type": "markdown",
   "id": "e148e353",
   "metadata": {},
   "source": [
    "## Reference copy :\n",
    "* Process of creating an instance in another variable and both are having same memory location.\n",
    "* changes in one variable will reflect the another variable."
   ]
  },
  {
   "cell_type": "code",
   "execution_count": 39,
   "id": "62514a1f",
   "metadata": {},
   "outputs": [],
   "source": [
    "a1 = [10,20,30,40,50]"
   ]
  },
  {
   "cell_type": "code",
   "execution_count": 40,
   "id": "592cdfb6",
   "metadata": {},
   "outputs": [
    {
     "data": {
      "text/plain": [
       "2478976417856"
      ]
     },
     "execution_count": 40,
     "metadata": {},
     "output_type": "execute_result"
    }
   ],
   "source": [
    "id(a1)"
   ]
  },
  {
   "cell_type": "code",
   "execution_count": 42,
   "id": "2939847b",
   "metadata": {},
   "outputs": [],
   "source": [
    "b1 = a1"
   ]
  },
  {
   "cell_type": "code",
   "execution_count": 43,
   "id": "3e847df9",
   "metadata": {},
   "outputs": [
    {
     "data": {
      "text/plain": [
       "2478976417856"
      ]
     },
     "execution_count": 43,
     "metadata": {},
     "output_type": "execute_result"
    }
   ],
   "source": [
    "id(b1)"
   ]
  },
  {
   "cell_type": "code",
   "execution_count": 44,
   "id": "0b050133",
   "metadata": {},
   "outputs": [],
   "source": [
    "a1.append(60)"
   ]
  },
  {
   "cell_type": "code",
   "execution_count": 45,
   "id": "4887aec4",
   "metadata": {},
   "outputs": [
    {
     "data": {
      "text/plain": [
       "[10, 20, 30, 40, 50, 60]"
      ]
     },
     "execution_count": 45,
     "metadata": {},
     "output_type": "execute_result"
    }
   ],
   "source": [
    "a1"
   ]
  },
  {
   "cell_type": "code",
   "execution_count": 46,
   "id": "767e151b",
   "metadata": {},
   "outputs": [
    {
     "data": {
      "text/plain": [
       "[10, 20, 30, 40, 50, 60]"
      ]
     },
     "execution_count": 46,
     "metadata": {},
     "output_type": "execute_result"
    }
   ],
   "source": [
    "b1"
   ]
  },
  {
   "cell_type": "code",
   "execution_count": 47,
   "id": "5a911301",
   "metadata": {},
   "outputs": [],
   "source": [
    "del a1[0]"
   ]
  },
  {
   "cell_type": "code",
   "execution_count": 48,
   "id": "2716ce47",
   "metadata": {},
   "outputs": [
    {
     "data": {
      "text/plain": [
       "[20, 30, 40, 50, 60]"
      ]
     },
     "execution_count": 48,
     "metadata": {},
     "output_type": "execute_result"
    }
   ],
   "source": [
    "a1"
   ]
  },
  {
   "cell_type": "code",
   "execution_count": 49,
   "id": "695fffc4",
   "metadata": {},
   "outputs": [
    {
     "data": {
      "text/plain": [
       "[20, 30, 40, 50, 60]"
      ]
     },
     "execution_count": 49,
     "metadata": {},
     "output_type": "execute_result"
    }
   ],
   "source": [
    "b1"
   ]
  },
  {
   "cell_type": "markdown",
   "id": "e611e74f",
   "metadata": {},
   "source": [
    "## Shallow Copy :\n",
    "* it is a process of copying values from one memory location to another memory location.\n",
    "* it is implemented using copy function."
   ]
  },
  {
   "cell_type": "code",
   "execution_count": 51,
   "id": "27a3d53d",
   "metadata": {},
   "outputs": [],
   "source": [
    "m = [10,20,30,40,50]"
   ]
  },
  {
   "cell_type": "code",
   "execution_count": 52,
   "id": "3dcf891a",
   "metadata": {},
   "outputs": [
    {
     "data": {
      "text/plain": [
       "2478975501952"
      ]
     },
     "execution_count": 52,
     "metadata": {},
     "output_type": "execute_result"
    }
   ],
   "source": [
    "id(m)"
   ]
  },
  {
   "cell_type": "code",
   "execution_count": 53,
   "id": "c97029c1",
   "metadata": {},
   "outputs": [],
   "source": [
    "n = m.copy()"
   ]
  },
  {
   "cell_type": "code",
   "execution_count": 54,
   "id": "70d4f2f3",
   "metadata": {},
   "outputs": [
    {
     "data": {
      "text/plain": [
       "[10, 20, 30, 40, 50]"
      ]
     },
     "execution_count": 54,
     "metadata": {},
     "output_type": "execute_result"
    }
   ],
   "source": [
    "n"
   ]
  },
  {
   "cell_type": "code",
   "execution_count": 55,
   "id": "622f34f7",
   "metadata": {},
   "outputs": [
    {
     "data": {
      "text/plain": [
       "2478975557056"
      ]
     },
     "execution_count": 55,
     "metadata": {},
     "output_type": "execute_result"
    }
   ],
   "source": [
    "id( n )"
   ]
  },
  {
   "cell_type": "code",
   "execution_count": 56,
   "id": "7c22c5ca",
   "metadata": {},
   "outputs": [],
   "source": [
    "m.append(\"sky\")"
   ]
  },
  {
   "cell_type": "code",
   "execution_count": 57,
   "id": "f777ea0e",
   "metadata": {},
   "outputs": [
    {
     "data": {
      "text/plain": [
       "[10, 20, 30, 40, 50, 'sky']"
      ]
     },
     "execution_count": 57,
     "metadata": {},
     "output_type": "execute_result"
    }
   ],
   "source": [
    "m"
   ]
  },
  {
   "cell_type": "code",
   "execution_count": 58,
   "id": "e3edfe69",
   "metadata": {},
   "outputs": [
    {
     "data": {
      "text/plain": [
       "[10, 20, 30, 40, 50]"
      ]
     },
     "execution_count": 58,
     "metadata": {},
     "output_type": "execute_result"
    }
   ],
   "source": [
    "n"
   ]
  },
  {
   "cell_type": "markdown",
   "id": "c1dd7295",
   "metadata": {},
   "source": [
    "### Secong method of shallow copy "
   ]
  },
  {
   "cell_type": "code",
   "execution_count": 61,
   "id": "04bbe85d",
   "metadata": {},
   "outputs": [],
   "source": [
    "import copy"
   ]
  },
  {
   "cell_type": "code",
   "execution_count": 60,
   "id": "d7e8d8e9",
   "metadata": {},
   "outputs": [
    {
     "data": {
      "text/plain": [
       "[10, 20, 30, 40, 50, 'sky']"
      ]
     },
     "execution_count": 60,
     "metadata": {},
     "output_type": "execute_result"
    }
   ],
   "source": [
    "m"
   ]
  },
  {
   "cell_type": "code",
   "execution_count": 62,
   "id": "67dd7c8b",
   "metadata": {},
   "outputs": [],
   "source": [
    "p = copy.copy(m)"
   ]
  },
  {
   "cell_type": "code",
   "execution_count": 63,
   "id": "7261c348",
   "metadata": {},
   "outputs": [
    {
     "data": {
      "text/plain": [
       "[10, 20, 30, 40, 50, 'sky']"
      ]
     },
     "execution_count": 63,
     "metadata": {},
     "output_type": "execute_result"
    }
   ],
   "source": [
    "p "
   ]
  },
  {
   "cell_type": "code",
   "execution_count": 64,
   "id": "76014d54",
   "metadata": {},
   "outputs": [
    {
     "data": {
      "text/plain": [
       "2478975501952"
      ]
     },
     "execution_count": 64,
     "metadata": {},
     "output_type": "execute_result"
    }
   ],
   "source": [
    "id(m)"
   ]
  },
  {
   "cell_type": "code",
   "execution_count": 65,
   "id": "4c9803e6",
   "metadata": {},
   "outputs": [
    {
     "data": {
      "text/plain": [
       "2478976437120"
      ]
     },
     "execution_count": 65,
     "metadata": {},
     "output_type": "execute_result"
    }
   ],
   "source": [
    "id(p)"
   ]
  },
  {
   "cell_type": "code",
   "execution_count": 66,
   "id": "83c8f30b",
   "metadata": {},
   "outputs": [],
   "source": [
    "x = [10,20,[\"A\",\"B\"],30,40,50]"
   ]
  },
  {
   "cell_type": "code",
   "execution_count": 67,
   "id": "bac91e99",
   "metadata": {},
   "outputs": [
    {
     "data": {
      "text/plain": [
       "2478976436480"
      ]
     },
     "execution_count": 67,
     "metadata": {},
     "output_type": "execute_result"
    }
   ],
   "source": [
    "id(x)"
   ]
  },
  {
   "cell_type": "code",
   "execution_count": 68,
   "id": "ff9ea530",
   "metadata": {},
   "outputs": [],
   "source": [
    "y = x.copy()"
   ]
  },
  {
   "cell_type": "code",
   "execution_count": 69,
   "id": "e3dd0757",
   "metadata": {},
   "outputs": [
    {
     "data": {
      "text/plain": [
       "[10, 20, ['A', 'B'], 30, 40, 50]"
      ]
     },
     "execution_count": 69,
     "metadata": {},
     "output_type": "execute_result"
    }
   ],
   "source": [
    "y"
   ]
  },
  {
   "cell_type": "code",
   "execution_count": 70,
   "id": "a3ede594",
   "metadata": {},
   "outputs": [
    {
     "data": {
      "text/plain": [
       "['A', 'B']"
      ]
     },
     "execution_count": 70,
     "metadata": {},
     "output_type": "execute_result"
    }
   ],
   "source": [
    "x[2]"
   ]
  },
  {
   "cell_type": "code",
   "execution_count": 71,
   "id": "7d186fe1",
   "metadata": {},
   "outputs": [],
   "source": [
    "x[2].append(\"sky\")"
   ]
  },
  {
   "cell_type": "code",
   "execution_count": 72,
   "id": "9440f5a5",
   "metadata": {},
   "outputs": [
    {
     "data": {
      "text/plain": [
       "[10, 20, ['A', 'B', 'sky'], 30, 40, 50]"
      ]
     },
     "execution_count": 72,
     "metadata": {},
     "output_type": "execute_result"
    }
   ],
   "source": [
    "x"
   ]
  },
  {
   "cell_type": "code",
   "execution_count": 73,
   "id": "d7f20b53",
   "metadata": {},
   "outputs": [
    {
     "data": {
      "text/plain": [
       "[10, 20, ['A', 'B', 'sky'], 30, 40, 50]"
      ]
     },
     "execution_count": 73,
     "metadata": {},
     "output_type": "execute_result"
    }
   ],
   "source": [
    "y"
   ]
  },
  {
   "cell_type": "code",
   "execution_count": 74,
   "id": "c3971b07",
   "metadata": {},
   "outputs": [
    {
     "data": {
      "text/plain": [
       "2478976436480"
      ]
     },
     "execution_count": 74,
     "metadata": {},
     "output_type": "execute_result"
    }
   ],
   "source": [
    "id(x)"
   ]
  },
  {
   "cell_type": "code",
   "execution_count": 75,
   "id": "76fe6b63",
   "metadata": {},
   "outputs": [
    {
     "data": {
      "text/plain": [
       "2478976437760"
      ]
     },
     "execution_count": 75,
     "metadata": {},
     "output_type": "execute_result"
    }
   ],
   "source": [
    "id(y)"
   ]
  },
  {
   "cell_type": "code",
   "execution_count": 76,
   "id": "45ed43b0",
   "metadata": {},
   "outputs": [
    {
     "data": {
      "text/plain": [
       "2478975998784"
      ]
     },
     "execution_count": 76,
     "metadata": {},
     "output_type": "execute_result"
    }
   ],
   "source": [
    "id(x[2])"
   ]
  },
  {
   "cell_type": "code",
   "execution_count": 77,
   "id": "5555ee7b",
   "metadata": {},
   "outputs": [
    {
     "data": {
      "text/plain": [
       "2478975998784"
      ]
     },
     "execution_count": 77,
     "metadata": {},
     "output_type": "execute_result"
    }
   ],
   "source": [
    "id(y[2])"
   ]
  },
  {
   "cell_type": "markdown",
   "id": "fd83c69f",
   "metadata": {},
   "source": [
    "### problem of shallow copy :\n",
    "* only nested lists having same memory location."
   ]
  },
  {
   "cell_type": "code",
   "execution_count": 80,
   "id": "5128bf10",
   "metadata": {},
   "outputs": [
    {
     "data": {
      "text/plain": [
       "[10, 20, ['A', 'B', 'sky'], 30, 40, 50]"
      ]
     },
     "execution_count": 80,
     "metadata": {},
     "output_type": "execute_result"
    }
   ],
   "source": [
    "x"
   ]
  },
  {
   "cell_type": "code",
   "execution_count": 81,
   "id": "4109fa10",
   "metadata": {},
   "outputs": [
    {
     "data": {
      "text/plain": [
       "2478976436480"
      ]
     },
     "execution_count": 81,
     "metadata": {},
     "output_type": "execute_result"
    }
   ],
   "source": [
    "id(x)"
   ]
  },
  {
   "cell_type": "code",
   "execution_count": 82,
   "id": "4d0a9293",
   "metadata": {},
   "outputs": [
    {
     "data": {
      "text/plain": [
       "2478975998784"
      ]
     },
     "execution_count": 82,
     "metadata": {},
     "output_type": "execute_result"
    }
   ],
   "source": [
    "id(x[2])"
   ]
  },
  {
   "cell_type": "code",
   "execution_count": 83,
   "id": "20ec2bb7",
   "metadata": {},
   "outputs": [
    {
     "data": {
      "text/plain": [
       "2478975998784"
      ]
     },
     "execution_count": 83,
     "metadata": {},
     "output_type": "execute_result"
    }
   ],
   "source": [
    "id(y[2])"
   ]
  },
  {
   "cell_type": "markdown",
   "id": "3f93b4b5",
   "metadata": {},
   "source": [
    "## Deep copy :\n",
    "* it is a process of copying values from one memory location to another memory location including nested list values."
   ]
  },
  {
   "cell_type": "code",
   "execution_count": 84,
   "id": "2175197f",
   "metadata": {},
   "outputs": [],
   "source": [
    "s1 = [10, 20, ['A', 'B'], 30, 40, 50]"
   ]
  },
  {
   "cell_type": "code",
   "execution_count": 85,
   "id": "d034bb0f",
   "metadata": {},
   "outputs": [
    {
     "data": {
      "text/plain": [
       "[10, 20, ['A', 'B'], 30, 40, 50]"
      ]
     },
     "execution_count": 85,
     "metadata": {},
     "output_type": "execute_result"
    }
   ],
   "source": [
    "s1"
   ]
  },
  {
   "cell_type": "code",
   "execution_count": 86,
   "id": "f0f05f28",
   "metadata": {},
   "outputs": [
    {
     "data": {
      "text/plain": [
       "2478976458496"
      ]
     },
     "execution_count": 86,
     "metadata": {},
     "output_type": "execute_result"
    }
   ],
   "source": [
    "id( s1 )"
   ]
  },
  {
   "cell_type": "code",
   "execution_count": 87,
   "id": "319d6d7d",
   "metadata": {},
   "outputs": [],
   "source": [
    "s2 = copy.deepcopy(s1)"
   ]
  },
  {
   "cell_type": "code",
   "execution_count": 88,
   "id": "0e72d237",
   "metadata": {},
   "outputs": [
    {
     "data": {
      "text/plain": [
       "[10, 20, ['A', 'B'], 30, 40, 50]"
      ]
     },
     "execution_count": 88,
     "metadata": {},
     "output_type": "execute_result"
    }
   ],
   "source": [
    "s2"
   ]
  },
  {
   "cell_type": "code",
   "execution_count": 89,
   "id": "4de53d30",
   "metadata": {},
   "outputs": [
    {
     "data": {
      "text/plain": [
       "2478976440384"
      ]
     },
     "execution_count": 89,
     "metadata": {},
     "output_type": "execute_result"
    }
   ],
   "source": [
    "id(s2)"
   ]
  },
  {
   "cell_type": "code",
   "execution_count": 90,
   "id": "3fe39d37",
   "metadata": {},
   "outputs": [
    {
     "data": {
      "text/plain": [
       "['A', 'B']"
      ]
     },
     "execution_count": 90,
     "metadata": {},
     "output_type": "execute_result"
    }
   ],
   "source": [
    "s1[2]"
   ]
  },
  {
   "cell_type": "code",
   "execution_count": 91,
   "id": "bff29113",
   "metadata": {},
   "outputs": [],
   "source": [
    "s1[2].append(\"C\")"
   ]
  },
  {
   "cell_type": "code",
   "execution_count": 92,
   "id": "70af10f7",
   "metadata": {},
   "outputs": [
    {
     "data": {
      "text/plain": [
       "[10, 20, ['A', 'B', 'C'], 30, 40, 50]"
      ]
     },
     "execution_count": 92,
     "metadata": {},
     "output_type": "execute_result"
    }
   ],
   "source": [
    "s1"
   ]
  },
  {
   "cell_type": "code",
   "execution_count": 93,
   "id": "0fb45e6c",
   "metadata": {},
   "outputs": [
    {
     "data": {
      "text/plain": [
       "[10, 20, ['A', 'B'], 30, 40, 50]"
      ]
     },
     "execution_count": 93,
     "metadata": {},
     "output_type": "execute_result"
    }
   ],
   "source": [
    "s2"
   ]
  },
  {
   "cell_type": "code",
   "execution_count": 94,
   "id": "20626f8d",
   "metadata": {},
   "outputs": [
    {
     "data": {
      "text/plain": [
       "2478976457344"
      ]
     },
     "execution_count": 94,
     "metadata": {},
     "output_type": "execute_result"
    }
   ],
   "source": [
    "id(s1[2])"
   ]
  },
  {
   "cell_type": "code",
   "execution_count": 95,
   "id": "88553d9e",
   "metadata": {},
   "outputs": [
    {
     "data": {
      "text/plain": [
       "2478975218176"
      ]
     },
     "execution_count": 95,
     "metadata": {},
     "output_type": "execute_result"
    }
   ],
   "source": [
    "id(s2[2])"
   ]
  },
  {
   "cell_type": "markdown",
   "id": "1321b56b",
   "metadata": {},
   "source": [
    "## Tuple :\n",
    "* It is a sequential data type which holds multiple heterogenous values enclosed in ().\n",
    "* list with some restrictions."
   ]
  },
  {
   "cell_type": "markdown",
   "id": "75ea4801",
   "metadata": {},
   "source": [
    "## Features of tuple :\n",
    "* holds multiple heterogenous values\n",
    "* immutable\n",
    "* duplicates are allowed\n",
    "* order is preserved\n",
    "* indexing & slicing is possible\n",
    "* nesting is possible"
   ]
  },
  {
   "cell_type": "markdown",
   "id": "9fc93dab",
   "metadata": {},
   "source": [
    "## Creation of tuple :\n",
    "* we can create tuple in 2 ways\n",
    "   * manual way\n",
    "   * tuple()"
   ]
  },
  {
   "cell_type": "code",
   "execution_count": 100,
   "id": "6bd1bef9",
   "metadata": {},
   "outputs": [],
   "source": [
    "tup1 = (100,200,300,400,500)"
   ]
  },
  {
   "cell_type": "code",
   "execution_count": 101,
   "id": "c3d5e8bb",
   "metadata": {},
   "outputs": [
    {
     "data": {
      "text/plain": [
       "tuple"
      ]
     },
     "execution_count": 101,
     "metadata": {},
     "output_type": "execute_result"
    }
   ],
   "source": [
    "type(tup1)"
   ]
  },
  {
   "cell_type": "code",
   "execution_count": 102,
   "id": "1272c72c",
   "metadata": {},
   "outputs": [],
   "source": [
    "t2 = \"Apple\",100,21.08,\"Orange\""
   ]
  },
  {
   "cell_type": "code",
   "execution_count": 103,
   "id": "183ee273",
   "metadata": {},
   "outputs": [
    {
     "data": {
      "text/plain": [
       "('Apple', 100, 21.08, 'Orange')"
      ]
     },
     "execution_count": 103,
     "metadata": {},
     "output_type": "execute_result"
    }
   ],
   "source": [
    "t2"
   ]
  },
  {
   "cell_type": "code",
   "execution_count": 104,
   "id": "0d96e991",
   "metadata": {},
   "outputs": [
    {
     "data": {
      "text/plain": [
       "tuple"
      ]
     },
     "execution_count": 104,
     "metadata": {},
     "output_type": "execute_result"
    }
   ],
   "source": [
    "type(t2)"
   ]
  },
  {
   "cell_type": "code",
   "execution_count": 105,
   "id": "93f8c39b",
   "metadata": {},
   "outputs": [],
   "source": [
    "l1 = [\"hello\" , True , 80 ,90]"
   ]
  },
  {
   "cell_type": "code",
   "execution_count": 106,
   "id": "5e0a3b3f",
   "metadata": {},
   "outputs": [
    {
     "data": {
      "text/plain": [
       "list"
      ]
     },
     "execution_count": 106,
     "metadata": {},
     "output_type": "execute_result"
    }
   ],
   "source": [
    "type(l1)"
   ]
  },
  {
   "cell_type": "code",
   "execution_count": 107,
   "id": "020a2a3a",
   "metadata": {},
   "outputs": [],
   "source": [
    "tup3 = tuple(l1)"
   ]
  },
  {
   "cell_type": "code",
   "execution_count": 108,
   "id": "9d67c260",
   "metadata": {},
   "outputs": [
    {
     "data": {
      "text/plain": [
       "('hello', True, 80, 90)"
      ]
     },
     "execution_count": 108,
     "metadata": {},
     "output_type": "execute_result"
    }
   ],
   "source": [
    "tup3"
   ]
  },
  {
   "cell_type": "code",
   "execution_count": 109,
   "id": "4a2b528a",
   "metadata": {},
   "outputs": [
    {
     "data": {
      "text/plain": [
       "tuple"
      ]
     },
     "execution_count": 109,
     "metadata": {},
     "output_type": "execute_result"
    }
   ],
   "source": [
    "type(tup3)"
   ]
  },
  {
   "cell_type": "markdown",
   "id": "6544f0c0",
   "metadata": {},
   "source": [
    "## Reading the data from tuple :\n",
    "* we can read the elements in 3 ways\n",
    "   * for loop\n",
    "   * indexing\n",
    "   * slicing"
   ]
  },
  {
   "cell_type": "code",
   "execution_count": 111,
   "id": "c38c9922",
   "metadata": {},
   "outputs": [
    {
     "data": {
      "text/plain": [
       "(100, 200, 300, 400, 500)"
      ]
     },
     "execution_count": 111,
     "metadata": {},
     "output_type": "execute_result"
    }
   ],
   "source": [
    "tup1"
   ]
  },
  {
   "cell_type": "code",
   "execution_count": 113,
   "id": "ad32ab29",
   "metadata": {},
   "outputs": [
    {
     "name": "stdout",
     "output_type": "stream",
     "text": [
      "100\n",
      "200\n",
      "300\n",
      "400\n",
      "500\n"
     ]
    }
   ],
   "source": [
    "for i in tup1:\n",
    "    print(i)"
   ]
  },
  {
   "cell_type": "code",
   "execution_count": 114,
   "id": "1e4c5ad0",
   "metadata": {},
   "outputs": [
    {
     "data": {
      "text/plain": [
       "300"
      ]
     },
     "execution_count": 114,
     "metadata": {},
     "output_type": "execute_result"
    }
   ],
   "source": [
    "tup1[2]"
   ]
  },
  {
   "cell_type": "code",
   "execution_count": 115,
   "id": "a9a25f97",
   "metadata": {},
   "outputs": [
    {
     "data": {
      "text/plain": [
       "300"
      ]
     },
     "execution_count": 115,
     "metadata": {},
     "output_type": "execute_result"
    }
   ],
   "source": [
    "tup1[-3]"
   ]
  },
  {
   "cell_type": "code",
   "execution_count": 117,
   "id": "cb0f72c9",
   "metadata": {},
   "outputs": [
    {
     "data": {
      "text/plain": [
       "('Apple', 100, 21.08, 'Orange')"
      ]
     },
     "execution_count": 117,
     "metadata": {},
     "output_type": "execute_result"
    }
   ],
   "source": [
    "t2"
   ]
  },
  {
   "cell_type": "code",
   "execution_count": 118,
   "id": "328e8013",
   "metadata": {},
   "outputs": [
    {
     "data": {
      "text/plain": [
       "('Apple', 100, 21.08, 'Orange')"
      ]
     },
     "execution_count": 118,
     "metadata": {},
     "output_type": "execute_result"
    }
   ],
   "source": [
    "t2[ : ]"
   ]
  },
  {
   "cell_type": "code",
   "execution_count": 119,
   "id": "db62bed8",
   "metadata": {},
   "outputs": [
    {
     "data": {
      "text/plain": [
       "(21.08, 'Orange')"
      ]
     },
     "execution_count": 119,
     "metadata": {},
     "output_type": "execute_result"
    }
   ],
   "source": [
    "t2[2:4]"
   ]
  },
  {
   "cell_type": "markdown",
   "id": "9eed8f61",
   "metadata": {},
   "source": [
    "### Duplicate Values"
   ]
  },
  {
   "cell_type": "code",
   "execution_count": 121,
   "id": "cff1caaa",
   "metadata": {},
   "outputs": [],
   "source": [
    "t1 = (\"Apple\",100,21.08,\"Orange\", 100, \"Apple\")"
   ]
  },
  {
   "cell_type": "code",
   "execution_count": 122,
   "id": "a9c461d1",
   "metadata": {},
   "outputs": [
    {
     "data": {
      "text/plain": [
       "('Apple', 100, 21.08, 'Orange', 100, 'Apple')"
      ]
     },
     "execution_count": 122,
     "metadata": {},
     "output_type": "execute_result"
    }
   ],
   "source": [
    "t1"
   ]
  },
  {
   "cell_type": "code",
   "execution_count": 123,
   "id": "479c37bb",
   "metadata": {},
   "outputs": [
    {
     "data": {
      "text/plain": [
       "tuple"
      ]
     },
     "execution_count": 123,
     "metadata": {},
     "output_type": "execute_result"
    }
   ],
   "source": [
    "type(t1)"
   ]
  },
  {
   "cell_type": "markdown",
   "id": "f0cefabb",
   "metadata": {},
   "source": [
    "### Nesting"
   ]
  },
  {
   "cell_type": "code",
   "execution_count": 125,
   "id": "30060d85",
   "metadata": {},
   "outputs": [],
   "source": [
    "tup4 = (10,20,(\"A\",\"B\",\"C\"),30,40)"
   ]
  },
  {
   "cell_type": "code",
   "execution_count": 126,
   "id": "5fecba90",
   "metadata": {},
   "outputs": [
    {
     "data": {
      "text/plain": [
       "(10, 20, ('A', 'B', 'C'), 30, 40)"
      ]
     },
     "execution_count": 126,
     "metadata": {},
     "output_type": "execute_result"
    }
   ],
   "source": [
    "tup4"
   ]
  },
  {
   "cell_type": "code",
   "execution_count": 127,
   "id": "2bcbe48d",
   "metadata": {},
   "outputs": [
    {
     "data": {
      "text/plain": [
       "tuple"
      ]
     },
     "execution_count": 127,
     "metadata": {},
     "output_type": "execute_result"
    }
   ],
   "source": [
    "type( tup4 )"
   ]
  },
  {
   "cell_type": "code",
   "execution_count": 128,
   "id": "9250ce4f",
   "metadata": {},
   "outputs": [
    {
     "data": {
      "text/plain": [
       "('A', 'B', 'C')"
      ]
     },
     "execution_count": 128,
     "metadata": {},
     "output_type": "execute_result"
    }
   ],
   "source": [
    "tup4[2]"
   ]
  },
  {
   "cell_type": "markdown",
   "id": "d000d1f6",
   "metadata": {},
   "source": [
    "## Updation and deletion :\n",
    "* updating and deleting the elements are not possible because tuple is immutable."
   ]
  },
  {
   "cell_type": "code",
   "execution_count": 133,
   "id": "8bf7f400",
   "metadata": {},
   "outputs": [
    {
     "name": "stdout",
     "output_type": "stream",
     "text": [
      "['__add__', '__class__', '__class_getitem__', '__contains__', '__delattr__', '__dir__', '__doc__', '__eq__', '__format__', '__ge__', '__getattribute__', '__getitem__', '__getnewargs__', '__gt__', '__hash__', '__init__', '__init_subclass__', '__iter__', '__le__', '__len__', '__lt__', '__mul__', '__ne__', '__new__', '__reduce__', '__reduce_ex__', '__repr__', '__rmul__', '__setattr__', '__sizeof__', '__str__', '__subclasshook__', 'count', 'index']\n"
     ]
    }
   ],
   "source": [
    "print( dir(tuple) )"
   ]
  },
  {
   "cell_type": "code",
   "execution_count": 130,
   "id": "61d07476",
   "metadata": {},
   "outputs": [
    {
     "data": {
      "text/plain": [
       "('Apple', 100, 21.08, 'Orange')"
      ]
     },
     "execution_count": 130,
     "metadata": {},
     "output_type": "execute_result"
    }
   ],
   "source": [
    "t2"
   ]
  },
  {
   "cell_type": "code",
   "execution_count": 132,
   "id": "4d9bd297",
   "metadata": {},
   "outputs": [
    {
     "ename": "AttributeError",
     "evalue": "'tuple' object has no attribute 'append'",
     "output_type": "error",
     "traceback": [
      "\u001b[1;31m---------------------------------------------------------------------------\u001b[0m",
      "\u001b[1;31mAttributeError\u001b[0m                            Traceback (most recent call last)",
      "\u001b[1;32m~\\AppData\\Local\\Temp\\ipykernel_21136\\3648254324.py\u001b[0m in \u001b[0;36m<module>\u001b[1;34m\u001b[0m\n\u001b[1;32m----> 1\u001b[1;33m \u001b[0mt2\u001b[0m\u001b[1;33m.\u001b[0m\u001b[0mappend\u001b[0m\u001b[1;33m(\u001b[0m\u001b[1;36m9\u001b[0m\u001b[1;33m)\u001b[0m\u001b[1;33m\u001b[0m\u001b[1;33m\u001b[0m\u001b[0m\n\u001b[0m",
      "\u001b[1;31mAttributeError\u001b[0m: 'tuple' object has no attribute 'append'"
     ]
    }
   ],
   "source": [
    "t2.append(9)"
   ]
  },
  {
   "cell_type": "code",
   "execution_count": 134,
   "id": "e4624cc6",
   "metadata": {},
   "outputs": [
    {
     "ename": "TypeError",
     "evalue": "'tuple' object doesn't support item deletion",
     "output_type": "error",
     "traceback": [
      "\u001b[1;31m---------------------------------------------------------------------------\u001b[0m",
      "\u001b[1;31mTypeError\u001b[0m                                 Traceback (most recent call last)",
      "\u001b[1;32m~\\AppData\\Local\\Temp\\ipykernel_21136\\3629996431.py\u001b[0m in \u001b[0;36m<module>\u001b[1;34m\u001b[0m\n\u001b[1;32m----> 1\u001b[1;33m \u001b[1;32mdel\u001b[0m \u001b[0mt2\u001b[0m\u001b[1;33m[\u001b[0m\u001b[1;36m2\u001b[0m\u001b[1;33m]\u001b[0m\u001b[1;33m\u001b[0m\u001b[1;33m\u001b[0m\u001b[0m\n\u001b[0m",
      "\u001b[1;31mTypeError\u001b[0m: 'tuple' object doesn't support item deletion"
     ]
    }
   ],
   "source": [
    "del t2[2]"
   ]
  },
  {
   "cell_type": "code",
   "execution_count": 135,
   "id": "74058578",
   "metadata": {},
   "outputs": [],
   "source": [
    "del t2"
   ]
  },
  {
   "cell_type": "code",
   "execution_count": 136,
   "id": "649445b0",
   "metadata": {},
   "outputs": [
    {
     "ename": "NameError",
     "evalue": "name 't2' is not defined",
     "output_type": "error",
     "traceback": [
      "\u001b[1;31m---------------------------------------------------------------------------\u001b[0m",
      "\u001b[1;31mNameError\u001b[0m                                 Traceback (most recent call last)",
      "\u001b[1;32m~\\AppData\\Local\\Temp\\ipykernel_21136\\2995953478.py\u001b[0m in \u001b[0;36m<module>\u001b[1;34m\u001b[0m\n\u001b[1;32m----> 1\u001b[1;33m \u001b[0mt2\u001b[0m\u001b[1;33m\u001b[0m\u001b[1;33m\u001b[0m\u001b[0m\n\u001b[0m",
      "\u001b[1;31mNameError\u001b[0m: name 't2' is not defined"
     ]
    }
   ],
   "source": [
    "t2"
   ]
  },
  {
   "cell_type": "code",
   "execution_count": 137,
   "id": "9ba16ca8",
   "metadata": {},
   "outputs": [
    {
     "data": {
      "text/plain": [
       "('Apple', 100, 21.08, 'Orange', 100, 'Apple')"
      ]
     },
     "execution_count": 137,
     "metadata": {},
     "output_type": "execute_result"
    }
   ],
   "source": [
    "t1"
   ]
  },
  {
   "cell_type": "code",
   "execution_count": 138,
   "id": "74b767d8",
   "metadata": {},
   "outputs": [
    {
     "ename": "AttributeError",
     "evalue": "'tuple' object has no attribute 'clear'",
     "output_type": "error",
     "traceback": [
      "\u001b[1;31m---------------------------------------------------------------------------\u001b[0m",
      "\u001b[1;31mAttributeError\u001b[0m                            Traceback (most recent call last)",
      "\u001b[1;32m~\\AppData\\Local\\Temp\\ipykernel_21136\\2186350739.py\u001b[0m in \u001b[0;36m<module>\u001b[1;34m\u001b[0m\n\u001b[1;32m----> 1\u001b[1;33m \u001b[0mt1\u001b[0m\u001b[1;33m.\u001b[0m\u001b[0mclear\u001b[0m\u001b[1;33m(\u001b[0m\u001b[1;33m)\u001b[0m\u001b[1;33m\u001b[0m\u001b[1;33m\u001b[0m\u001b[0m\n\u001b[0m",
      "\u001b[1;31mAttributeError\u001b[0m: 'tuple' object has no attribute 'clear'"
     ]
    }
   ],
   "source": [
    "t1.clear()"
   ]
  },
  {
   "cell_type": "code",
   "execution_count": null,
   "id": "2a5c5d48",
   "metadata": {},
   "outputs": [],
   "source": []
  }
 ],
 "metadata": {
  "kernelspec": {
   "display_name": "Python 3 (ipykernel)",
   "language": "python",
   "name": "python3"
  },
  "language_info": {
   "codemirror_mode": {
    "name": "ipython",
    "version": 3
   },
   "file_extension": ".py",
   "mimetype": "text/x-python",
   "name": "python",
   "nbconvert_exporter": "python",
   "pygments_lexer": "ipython3",
   "version": "3.9.13"
  }
 },
 "nbformat": 4,
 "nbformat_minor": 5
}
