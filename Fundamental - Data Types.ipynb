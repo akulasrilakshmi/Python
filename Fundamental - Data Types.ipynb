{
 "cells": [
  {
   "cell_type": "markdown",
   "id": "161d074e",
   "metadata": {},
   "source": [
    "## Fundamental Data Type :\n",
    "* Data types are used to store different kinds of information.\n",
    "* there are 2 types of data types\n",
    "    * fundamental data types\n",
    "    * sequential data types"
   ]
  },
  {
   "cell_type": "markdown",
   "id": "be79214f",
   "metadata": {},
   "source": [
    "## Fundamental Data Type :\n",
    "* fundamental data types are used to store individual values.\n",
    "* Immutable \n",
    "* variables holding same value refers to same memory location.\n",
    "### examples :\n",
    "\n",
    "     * complex\n",
    "     * string\n",
    "     * integer\n",
    "     * boolean\n",
    "     * float"
   ]
  },
  {
   "cell_type": "markdown",
   "id": "c0426f56",
   "metadata": {},
   "source": [
    "### Integer :\n",
    "* Integers --> int () --> it is used to convert any number to integer.\n",
    "\n",
    " "
   ]
  },
  {
   "cell_type": "code",
   "execution_count": 89,
   "id": "c39aeb0a",
   "metadata": {},
   "outputs": [
    {
     "data": {
      "text/plain": [
       "9"
      ]
     },
     "execution_count": 89,
     "metadata": {},
     "output_type": "execute_result"
    }
   ],
   "source": [
    "int(9.0)"
   ]
  },
  {
   "cell_type": "markdown",
   "id": "37a7dc9e",
   "metadata": {},
   "source": [
    "### Float :\n",
    "* Floats : --> float ()\n",
    "* An integer with decimal point.\n",
    "* Float is used to get the accurate value using decimal point.\n",
    "* It can generate infinite number of values between any two numbers\n",
    "* It can extract lowest and highest value between any two numbers"
   ]
  },
  {
   "cell_type": "code",
   "execution_count": 91,
   "id": "65da0a44",
   "metadata": {},
   "outputs": [],
   "source": [
    " x = 6"
   ]
  },
  {
   "cell_type": "code",
   "execution_count": 92,
   "id": "d69e51ba",
   "metadata": {},
   "outputs": [
    {
     "data": {
      "text/plain": [
       "6.0"
      ]
     },
     "execution_count": 92,
     "metadata": {},
     "output_type": "execute_result"
    }
   ],
   "source": [
    "float(x)"
   ]
  },
  {
   "cell_type": "markdown",
   "id": "4b18a333",
   "metadata": {},
   "source": [
    "### Boolean :\n",
    "* Boolean (Bool) ==> True / False\n",
    "* Internally python identifies :\n",
    "     * True : 1\n",
    "     * False : 0\n",
    "* Bool() is used to convert anything into boolean format.\n",
    "* Boolean with Numerical Values :\n",
    "* True : All non - zero number is considered as True\n",
    "* False : Number is equal to zero.\n",
    "* Boolean with Strings\n",
    "     * True : All Non-Empty Strings are considered as True\n",
    "     * False : Empty is considered as False"
   ]
  },
  {
   "cell_type": "code",
   "execution_count": 1,
   "id": "e2382912",
   "metadata": {},
   "outputs": [
    {
     "data": {
      "text/plain": [
       "False"
      ]
     },
     "execution_count": 1,
     "metadata": {},
     "output_type": "execute_result"
    }
   ],
   "source": [
    "bool(\"\")"
   ]
  },
  {
   "cell_type": "code",
   "execution_count": 94,
   "id": "30165f90",
   "metadata": {},
   "outputs": [
    {
     "data": {
      "text/plain": [
       "False"
      ]
     },
     "execution_count": 94,
     "metadata": {},
     "output_type": "execute_result"
    }
   ],
   "source": [
    "bool(0)"
   ]
  },
  {
   "cell_type": "code",
   "execution_count": 95,
   "id": "72fd3ec5",
   "metadata": {},
   "outputs": [
    {
     "data": {
      "text/plain": [
       "True"
      ]
     },
     "execution_count": 95,
     "metadata": {},
     "output_type": "execute_result"
    }
   ],
   "source": [
    "bool(1)"
   ]
  },
  {
   "cell_type": "code",
   "execution_count": 96,
   "id": "71438c29",
   "metadata": {},
   "outputs": [
    {
     "data": {
      "text/plain": [
       "True"
      ]
     },
     "execution_count": 96,
     "metadata": {},
     "output_type": "execute_result"
    }
   ],
   "source": [
    " bool(4)"
   ]
  },
  {
   "cell_type": "code",
   "execution_count": 97,
   "id": "62fb2f66",
   "metadata": {},
   "outputs": [],
   "source": [
    "x1 = \" \""
   ]
  },
  {
   "cell_type": "code",
   "execution_count": 98,
   "id": "964077fc",
   "metadata": {},
   "outputs": [
    {
     "data": {
      "text/plain": [
       "True"
      ]
     },
     "execution_count": 98,
     "metadata": {},
     "output_type": "execute_result"
    }
   ],
   "source": [
    "bool(x1)"
   ]
  },
  {
   "cell_type": "code",
   "execution_count": 99,
   "id": "394596dd",
   "metadata": {},
   "outputs": [],
   "source": [
    "x2 = \"Hello\""
   ]
  },
  {
   "cell_type": "code",
   "execution_count": 100,
   "id": "9d99509c",
   "metadata": {},
   "outputs": [
    {
     "data": {
      "text/plain": [
       "True"
      ]
     },
     "execution_count": 100,
     "metadata": {},
     "output_type": "execute_result"
    }
   ],
   "source": [
    "bool(x2)"
   ]
  },
  {
   "cell_type": "markdown",
   "id": "b3dab502",
   "metadata": {},
   "source": [
    "### Complex Data type :\n",
    "* it is a combination of real value , complex value and imaginary value.\n",
    "* eg :\n",
    "    10 + 2j ---> 10 - real value , 2 - complex value , j - imaginary value"
   ]
  },
  {
   "cell_type": "code",
   "execution_count": 4,
   "id": "6be42940",
   "metadata": {},
   "outputs": [],
   "source": [
    " x = 15 + 3j"
   ]
  },
  {
   "cell_type": "code",
   "execution_count": 5,
   "id": "bb6eac13",
   "metadata": {},
   "outputs": [
    {
     "data": {
      "text/plain": [
       "complex"
      ]
     },
     "execution_count": 5,
     "metadata": {},
     "output_type": "execute_result"
    }
   ],
   "source": [
    "type(x)"
   ]
  },
  {
   "cell_type": "code",
   "execution_count": null,
   "id": "b77400c0",
   "metadata": {},
   "outputs": [],
   "source": [
    "# real attribute is used to display the real value , output in the form of a float"
   ]
  },
  {
   "cell_type": "code",
   "execution_count": 6,
   "id": "7d9b8191",
   "metadata": {},
   "outputs": [
    {
     "data": {
      "text/plain": [
       "15.0"
      ]
     },
     "execution_count": 6,
     "metadata": {},
     "output_type": "execute_result"
    }
   ],
   "source": [
    "x.real "
   ]
  },
  {
   "cell_type": "code",
   "execution_count": null,
   "id": "1168d14f",
   "metadata": {},
   "outputs": [],
   "source": [
    "# imag attribute is used to display the imaginary value , output in the form of float"
   ]
  },
  {
   "cell_type": "code",
   "execution_count": 7,
   "id": "5f106a54",
   "metadata": {},
   "outputs": [
    {
     "data": {
      "text/plain": [
       "3.0"
      ]
     },
     "execution_count": 7,
     "metadata": {},
     "output_type": "execute_result"
    }
   ],
   "source": [
    "x.imag"
   ]
  },
  {
   "cell_type": "code",
   "execution_count": null,
   "id": "68bb0ec9",
   "metadata": {},
   "outputs": [],
   "source": [
    "# complex function is used to convert any form to complex form"
   ]
  },
  {
   "cell_type": "code",
   "execution_count": 8,
   "id": "98583ef1",
   "metadata": {},
   "outputs": [
    {
     "data": {
      "text/plain": [
       "(2+0j)"
      ]
     },
     "execution_count": 8,
     "metadata": {},
     "output_type": "execute_result"
    }
   ],
   "source": [
    "complex(2)"
   ]
  },
  {
   "cell_type": "code",
   "execution_count": 9,
   "id": "9defb442",
   "metadata": {},
   "outputs": [
    {
     "data": {
      "text/plain": [
       "0j"
      ]
     },
     "execution_count": 9,
     "metadata": {},
     "output_type": "execute_result"
    }
   ],
   "source": [
    "complex()"
   ]
  },
  {
   "cell_type": "code",
   "execution_count": 11,
   "id": "e82c541d",
   "metadata": {},
   "outputs": [
    {
     "data": {
      "text/plain": [
       "0j"
      ]
     },
     "execution_count": 11,
     "metadata": {},
     "output_type": "execute_result"
    }
   ],
   "source": [
    "complex(False)"
   ]
  },
  {
   "cell_type": "code",
   "execution_count": 10,
   "id": "efeddb3c",
   "metadata": {},
   "outputs": [
    {
     "data": {
      "text/plain": [
       "(3+5j)"
      ]
     },
     "execution_count": 10,
     "metadata": {},
     "output_type": "execute_result"
    }
   ],
   "source": [
    "complex(3,5)"
   ]
  },
  {
   "cell_type": "code",
   "execution_count": 12,
   "id": "b8616740",
   "metadata": {},
   "outputs": [
    {
     "data": {
      "text/plain": [
       "(1+0j)"
      ]
     },
     "execution_count": 12,
     "metadata": {},
     "output_type": "execute_result"
    }
   ],
   "source": [
    "complex(True)"
   ]
  },
  {
   "cell_type": "code",
   "execution_count": null,
   "id": "7d134625",
   "metadata": {},
   "outputs": [],
   "source": [
    "# string of integer and float type can convert to complex form\n",
    "# if you give either first or second argument as a string to complex function it throws an error"
   ]
  },
  {
   "cell_type": "code",
   "execution_count": 13,
   "id": "3174054f",
   "metadata": {},
   "outputs": [
    {
     "data": {
      "text/plain": [
       "(4+0j)"
      ]
     },
     "execution_count": 13,
     "metadata": {},
     "output_type": "execute_result"
    }
   ],
   "source": [
    "complex(\"4\")"
   ]
  },
  {
   "cell_type": "code",
   "execution_count": 16,
   "id": "a178d97b",
   "metadata": {},
   "outputs": [
    {
     "data": {
      "text/plain": [
       "(5+0j)"
      ]
     },
     "execution_count": 16,
     "metadata": {},
     "output_type": "execute_result"
    }
   ],
   "source": [
    "complex(\"5\")"
   ]
  },
  {
   "cell_type": "code",
   "execution_count": 17,
   "id": "c22b8e57",
   "metadata": {},
   "outputs": [
    {
     "ename": "ValueError",
     "evalue": "complex() arg is a malformed string",
     "output_type": "error",
     "traceback": [
      "\u001b[1;31m---------------------------------------------------------------------------\u001b[0m",
      "\u001b[1;31mValueError\u001b[0m                                Traceback (most recent call last)",
      "\u001b[1;32m~\\AppData\\Local\\Temp\\ipykernel_18240\\1026029873.py\u001b[0m in \u001b[0;36m<module>\u001b[1;34m\u001b[0m\n\u001b[1;32m----> 1\u001b[1;33m \u001b[0mcomplex\u001b[0m\u001b[1;33m(\u001b[0m\u001b[1;34m\"Apple\"\u001b[0m\u001b[1;33m)\u001b[0m\u001b[1;33m\u001b[0m\u001b[1;33m\u001b[0m\u001b[0m\n\u001b[0m",
      "\u001b[1;31mValueError\u001b[0m: complex() arg is a malformed string"
     ]
    }
   ],
   "source": [
    "complex(\"Apple\")"
   ]
  },
  {
   "cell_type": "code",
   "execution_count": 18,
   "id": "e4dae632",
   "metadata": {},
   "outputs": [
    {
     "ename": "TypeError",
     "evalue": "complex() can't take second arg if first is a string",
     "output_type": "error",
     "traceback": [
      "\u001b[1;31m---------------------------------------------------------------------------\u001b[0m",
      "\u001b[1;31mTypeError\u001b[0m                                 Traceback (most recent call last)",
      "\u001b[1;32m~\\AppData\\Local\\Temp\\ipykernel_18240\\3489658493.py\u001b[0m in \u001b[0;36m<module>\u001b[1;34m\u001b[0m\n\u001b[1;32m----> 1\u001b[1;33m \u001b[0mcomplex\u001b[0m\u001b[1;33m(\u001b[0m\u001b[1;34m\"9\"\u001b[0m\u001b[1;33m,\u001b[0m\u001b[1;36m8\u001b[0m\u001b[1;33m)\u001b[0m\u001b[1;33m\u001b[0m\u001b[1;33m\u001b[0m\u001b[0m\n\u001b[0m",
      "\u001b[1;31mTypeError\u001b[0m: complex() can't take second arg if first is a string"
     ]
    }
   ],
   "source": [
    "complex(\"9\",8)"
   ]
  },
  {
   "cell_type": "code",
   "execution_count": 19,
   "id": "cd2d4468",
   "metadata": {},
   "outputs": [
    {
     "ename": "TypeError",
     "evalue": "complex() second arg can't be a string",
     "output_type": "error",
     "traceback": [
      "\u001b[1;31m---------------------------------------------------------------------------\u001b[0m",
      "\u001b[1;31mTypeError\u001b[0m                                 Traceback (most recent call last)",
      "\u001b[1;32m~\\AppData\\Local\\Temp\\ipykernel_18240\\1269015073.py\u001b[0m in \u001b[0;36m<module>\u001b[1;34m\u001b[0m\n\u001b[1;32m----> 1\u001b[1;33m \u001b[0mcomplex\u001b[0m\u001b[1;33m(\u001b[0m\u001b[1;36m7\u001b[0m\u001b[1;33m,\u001b[0m\u001b[1;34m\"2\"\u001b[0m\u001b[1;33m)\u001b[0m\u001b[1;33m\u001b[0m\u001b[1;33m\u001b[0m\u001b[0m\n\u001b[0m",
      "\u001b[1;31mTypeError\u001b[0m: complex() second arg can't be a string"
     ]
    }
   ],
   "source": [
    "complex(7,\"2\")"
   ]
  },
  {
   "cell_type": "markdown",
   "id": "95954323",
   "metadata": {},
   "source": [
    "### String data type :\n",
    "* Any value within quotes\n",
    "* ways to create string :\n",
    "      \" \" --> you can't write multiple lines\n",
    "      ' ' --> you can't write multiple lines\n",
    "      \"\"\" \"\"\" --> you can write multiple lines"
   ]
  },
  {
   "cell_type": "code",
   "execution_count": 21,
   "id": "297b0784",
   "metadata": {},
   "outputs": [],
   "source": [
    "s1 = \"WELCOME TO PYTHON INTRODUCTION\""
   ]
  },
  {
   "cell_type": "code",
   "execution_count": 22,
   "id": "d5784c3e",
   "metadata": {},
   "outputs": [
    {
     "name": "stdout",
     "output_type": "stream",
     "text": [
      "<class 'str'>\n",
      "1973440178976\n"
     ]
    }
   ],
   "source": [
    "print( type(s1) , id(s1) , sep=\"\\n\")"
   ]
  },
  {
   "cell_type": "markdown",
   "id": "47e07871",
   "metadata": {},
   "source": [
    "### Indexing :\n",
    "* way to access specific element from a sequence\n",
    "### drawback :\n",
    "* you can access only value at a time."
   ]
  },
  {
   "cell_type": "markdown",
   "id": "23243a61",
   "metadata": {},
   "source": [
    "#### Positive indexing :"
   ]
  },
  {
   "cell_type": "code",
   "execution_count": 24,
   "id": "293cef93",
   "metadata": {},
   "outputs": [
    {
     "data": {
      "text/plain": [
       "'M'"
      ]
     },
     "execution_count": 24,
     "metadata": {},
     "output_type": "execute_result"
    }
   ],
   "source": [
    "s1[5]"
   ]
  },
  {
   "cell_type": "code",
   "execution_count": 26,
   "id": "9e67eb56",
   "metadata": {},
   "outputs": [
    {
     "data": {
      "text/plain": [
       "'O'"
      ]
     },
     "execution_count": 26,
     "metadata": {},
     "output_type": "execute_result"
    }
   ],
   "source": [
    "s1[9]"
   ]
  },
  {
   "cell_type": "markdown",
   "id": "e65727c4",
   "metadata": {},
   "source": [
    "#### Negative indexing :"
   ]
  },
  {
   "cell_type": "code",
   "execution_count": 28,
   "id": "ade9b09e",
   "metadata": {},
   "outputs": [
    {
     "data": {
      "text/plain": [
       "'I'"
      ]
     },
     "execution_count": 28,
     "metadata": {},
     "output_type": "execute_result"
    }
   ],
   "source": [
    "s1[-3]"
   ]
  },
  {
   "cell_type": "code",
   "execution_count": 29,
   "id": "01eb287f",
   "metadata": {},
   "outputs": [
    {
     "data": {
      "text/plain": [
       "'O'"
      ]
     },
     "execution_count": 29,
     "metadata": {},
     "output_type": "execute_result"
    }
   ],
   "source": [
    "s1[-8]"
   ]
  },
  {
   "cell_type": "markdown",
   "id": "da8ab85f",
   "metadata": {},
   "source": [
    "### Slicing :\n",
    "* drawback of indexing is u can extract only one value at a time , inorder to overcome this we go with slicing\n",
    "* 3 arguments in slicing --> start , end , step\n",
    "* positive step :\n",
    "        * default value : 1\n",
    "        * direction  : left to right\n",
    "        * start default : 0\n",
    "        * end default : len-1\n",
    "        * starting value < ending value\n",
    "\n",
    "* negative step :\n",
    "        * direction : right to left\n",
    "        * start default : -1\n",
    "        * end default : -len\n",
    "        * starting value > ending value"
   ]
  },
  {
   "cell_type": "markdown",
   "id": "59fe9ec6",
   "metadata": {},
   "source": [
    "#### positive step :"
   ]
  },
  {
   "cell_type": "code",
   "execution_count": 33,
   "id": "75ee77e1",
   "metadata": {},
   "outputs": [
    {
     "data": {
      "text/plain": [
       "'LCOME TO'"
      ]
     },
     "execution_count": 33,
     "metadata": {},
     "output_type": "execute_result"
    }
   ],
   "source": [
    "s1[ 2 : 10 : 1]"
   ]
  },
  {
   "cell_type": "code",
   "execution_count": 35,
   "id": "04afdc78",
   "metadata": {},
   "outputs": [
    {
     "data": {
      "text/plain": [
       "'WELCOME TO PYTHON INTRODUCTION'"
      ]
     },
     "execution_count": 35,
     "metadata": {},
     "output_type": "execute_result"
    }
   ],
   "source": [
    "s1[: :]"
   ]
  },
  {
   "cell_type": "code",
   "execution_count": 36,
   "id": "3e091ba3",
   "metadata": {},
   "outputs": [
    {
     "data": {
      "text/plain": [
       "'WLOET Y'"
      ]
     },
     "execution_count": 36,
     "metadata": {},
     "output_type": "execute_result"
    }
   ],
   "source": [
    "s1[ : 13 : 2]"
   ]
  },
  {
   "cell_type": "markdown",
   "id": "5bde8d2f",
   "metadata": {},
   "source": [
    "#### negative step :"
   ]
  },
  {
   "cell_type": "code",
   "execution_count": 38,
   "id": "8a958bf2",
   "metadata": {},
   "outputs": [
    {
     "data": {
      "text/plain": [
       "' NOHTYP OT EMO'"
      ]
     },
     "execution_count": 38,
     "metadata": {},
     "output_type": "execute_result"
    }
   ],
   "source": [
    "s1[ 17 : 3 : -1]"
   ]
  },
  {
   "cell_type": "code",
   "execution_count": 39,
   "id": "e226b038",
   "metadata": {},
   "outputs": [
    {
     "data": {
      "text/plain": [
       "'N OTPO MC'"
      ]
     },
     "execution_count": 39,
     "metadata": {},
     "output_type": "execute_result"
    }
   ],
   "source": [
    "s1[19 : 1 : -2]"
   ]
  },
  {
   "cell_type": "markdown",
   "id": "b8a292e7",
   "metadata": {},
   "source": [
    "### String Functions :"
   ]
  },
  {
   "cell_type": "markdown",
   "id": "6db233f9",
   "metadata": {},
   "source": [
    "Method        Description\n",
    "----------------------------------------------\n",
    "* capitalize()--> Converts the first character to upper case\n",
    "* lower()    -->  Converts a string into lower case\n",
    "* title()    -->  Converts the first character of each word to upper case\n",
    "* upper()    -->  Converts a string into upper case\n",
    "* swapcase() -->  Swaps cases, lower case becomes upper case and vice versa\n",
    "* islower()  -->  Returns True if all characters in the string are lower case\n",
    "* istitle()  -->  Returns True if the string follows the rules of a title\n",
    "* isupper()  -->  Returns True if all characters in the string are upper case\n",
    "* count()    -->  Returns the number of times a specified value occurs in a stringstartswith() Returns true if the string starts                   with the specified value\n",
    "* endswith() -->  Returns true if the string ends with the specified value\n",
    "* find()   -->    Searches the string for a specified value and returns the position of where it was found\n",
    "* rfind()   -->   Searches the string for a specified value and returns the last position of where it was found\n",
    "* index()   -->   Searches the string for a specified value and returns the position of where it was found\n",
    "* rindex()  -->   Searches the string for a specified value and returns the last position of where it was found\n",
    "* isalnum() -->   Returns True if all characters in the string are alphanumeric\n",
    "* isalpha() -->   Returns True if all characters in the string are in the alphabet\n",
    "* isdigit() -->   Returns True if all characters in the string are digits\n",
    "* center()  -->   Returns a centered string\n",
    "* ljust()   -->   Returns a left justified version of the string\n",
    "* rjust()   -->   Returns a right justified version of the string\n",
    "* strip()  -->    Returns a trimmed version of the string\n",
    "* lstrip() -->    Returns a left trim version of the string\n",
    "* rstrip()  -->   Returns a right trim version of the string\n",
    "* split()  -->    Splits the string at the specified separator, and returns a list\n",
    "* rsplit()  -->    Splits the string at the specified separator, and returns a list\n",
    "* splitlines()--> Splits the string at line breaks and returns a list\n",
    "* partition() --> Returns a tuple where the string is parted into three parts\n",
    "* rpartition()--> Returns a tuple where the string is parted into three parts\n",
    "* join()     -->  Converts the elements of an iterable into a string\n",
    "* replace()  -->  Returns a string where a specified value is replaced with a specified value\n"
   ]
  },
  {
   "cell_type": "code",
   "execution_count": 1,
   "id": "9522259e",
   "metadata": {},
   "outputs": [],
   "source": [
    " s =\"welcome to python\""
   ]
  },
  {
   "cell_type": "code",
   "execution_count": 2,
   "id": "c523272c",
   "metadata": {},
   "outputs": [
    {
     "data": {
      "text/plain": [
       "'welcome to python'"
      ]
     },
     "execution_count": 2,
     "metadata": {},
     "output_type": "execute_result"
    }
   ],
   "source": [
    "s"
   ]
  },
  {
   "cell_type": "code",
   "execution_count": 3,
   "id": "a94b6f87",
   "metadata": {},
   "outputs": [
    {
     "data": {
      "text/plain": [
       "'Welcome to python'"
      ]
     },
     "execution_count": 3,
     "metadata": {},
     "output_type": "execute_result"
    }
   ],
   "source": [
    "s.capitalize()"
   ]
  },
  {
   "cell_type": "code",
   "execution_count": 4,
   "id": "ac849ac5",
   "metadata": {},
   "outputs": [
    {
     "data": {
      "text/plain": [
       "'Welcome To Python'"
      ]
     },
     "execution_count": 4,
     "metadata": {},
     "output_type": "execute_result"
    }
   ],
   "source": [
    "s.title()"
   ]
  },
  {
   "cell_type": "code",
   "execution_count": 5,
   "id": "56bfaabc",
   "metadata": {},
   "outputs": [
    {
     "data": {
      "text/plain": [
       "'WELCOME TO PYTHON'"
      ]
     },
     "execution_count": 5,
     "metadata": {},
     "output_type": "execute_result"
    }
   ],
   "source": [
    "s.upper()"
   ]
  },
  {
   "cell_type": "code",
   "execution_count": 6,
   "id": "c2f46593",
   "metadata": {},
   "outputs": [
    {
     "data": {
      "text/plain": [
       "'welcome to python'"
      ]
     },
     "execution_count": 6,
     "metadata": {},
     "output_type": "execute_result"
    }
   ],
   "source": [
    "s.lower()"
   ]
  },
  {
   "cell_type": "code",
   "execution_count": 7,
   "id": "4c16eb63",
   "metadata": {},
   "outputs": [
    {
     "data": {
      "text/plain": [
       "False"
      ]
     },
     "execution_count": 7,
     "metadata": {},
     "output_type": "execute_result"
    }
   ],
   "source": [
    "s.isupper()"
   ]
  },
  {
   "cell_type": "code",
   "execution_count": 8,
   "id": "e38a3239",
   "metadata": {},
   "outputs": [
    {
     "data": {
      "text/plain": [
       "True"
      ]
     },
     "execution_count": 8,
     "metadata": {},
     "output_type": "execute_result"
    }
   ],
   "source": [
    "s.islower()"
   ]
  },
  {
   "cell_type": "code",
   "execution_count": 9,
   "id": "65fc560d",
   "metadata": {},
   "outputs": [
    {
     "data": {
      "text/plain": [
       "'WELCOME TO PYTHON'"
      ]
     },
     "execution_count": 9,
     "metadata": {},
     "output_type": "execute_result"
    }
   ],
   "source": [
    "s.swapcase()"
   ]
  },
  {
   "cell_type": "code",
   "execution_count": 10,
   "id": "aa5c01b0",
   "metadata": {},
   "outputs": [
    {
     "data": {
      "text/plain": [
       "False"
      ]
     },
     "execution_count": 10,
     "metadata": {},
     "output_type": "execute_result"
    }
   ],
   "source": [
    "s.isalpha()"
   ]
  },
  {
   "cell_type": "code",
   "execution_count": 12,
   "id": "83a9e53f",
   "metadata": {},
   "outputs": [],
   "source": [
    "s1=\"hhj\""
   ]
  },
  {
   "cell_type": "code",
   "execution_count": 13,
   "id": "2bd4c133",
   "metadata": {},
   "outputs": [
    {
     "data": {
      "text/plain": [
       "True"
      ]
     },
     "execution_count": 13,
     "metadata": {},
     "output_type": "execute_result"
    }
   ],
   "source": [
    "s1.isalpha()"
   ]
  },
  {
   "cell_type": "code",
   "execution_count": 15,
   "id": "e856c907",
   "metadata": {},
   "outputs": [
    {
     "data": {
      "text/plain": [
       "False"
      ]
     },
     "execution_count": 15,
     "metadata": {},
     "output_type": "execute_result"
    }
   ],
   "source": [
    "s.isalnum()"
   ]
  },
  {
   "cell_type": "code",
   "execution_count": 18,
   "id": "246aeab4",
   "metadata": {},
   "outputs": [],
   "source": [
    "str1 = \"INDIA\""
   ]
  },
  {
   "cell_type": "code",
   "execution_count": 19,
   "id": "ae10b819",
   "metadata": {},
   "outputs": [
    {
     "data": {
      "text/plain": [
       "'  INDIA   '"
      ]
     },
     "execution_count": 19,
     "metadata": {},
     "output_type": "execute_result"
    }
   ],
   "source": [
    "str1.center(10)"
   ]
  },
  {
   "cell_type": "code",
   "execution_count": 20,
   "id": "bc972323",
   "metadata": {},
   "outputs": [
    {
     "data": {
      "text/plain": [
       "'  INDIA  '"
      ]
     },
     "execution_count": 20,
     "metadata": {},
     "output_type": "execute_result"
    }
   ],
   "source": [
    "str1.center(9)"
   ]
  },
  {
   "cell_type": "code",
   "execution_count": 21,
   "id": "236ff658",
   "metadata": {},
   "outputs": [
    {
     "data": {
      "text/plain": [
       "'***INDIA***'"
      ]
     },
     "execution_count": 21,
     "metadata": {},
     "output_type": "execute_result"
    }
   ],
   "source": [
    "str1.center(11 ,\"*\")"
   ]
  },
  {
   "cell_type": "code",
   "execution_count": 22,
   "id": "5b3658ab",
   "metadata": {},
   "outputs": [],
   "source": [
    "str2 = \" PYTHON \""
   ]
  },
  {
   "cell_type": "code",
   "execution_count": 23,
   "id": "0f159206",
   "metadata": {},
   "outputs": [
    {
     "data": {
      "text/plain": [
       "'PYTHON'"
      ]
     },
     "execution_count": 23,
     "metadata": {},
     "output_type": "execute_result"
    }
   ],
   "source": [
    "str2.strip()"
   ]
  },
  {
   "cell_type": "code",
   "execution_count": 24,
   "id": "516772f8",
   "metadata": {},
   "outputs": [
    {
     "data": {
      "text/plain": [
       "'PYTHON '"
      ]
     },
     "execution_count": 24,
     "metadata": {},
     "output_type": "execute_result"
    }
   ],
   "source": [
    "str2.lstrip()"
   ]
  },
  {
   "cell_type": "code",
   "execution_count": 25,
   "id": "908c8a8a",
   "metadata": {},
   "outputs": [
    {
     "data": {
      "text/plain": [
       "' PYTHON'"
      ]
     },
     "execution_count": 25,
     "metadata": {},
     "output_type": "execute_result"
    }
   ],
   "source": [
    "str2.rstrip()"
   ]
  },
  {
   "cell_type": "code",
   "execution_count": 26,
   "id": "081d2aa2",
   "metadata": {},
   "outputs": [
    {
     "data": {
      "text/plain": [
       "'INDIA'"
      ]
     },
     "execution_count": 26,
     "metadata": {},
     "output_type": "execute_result"
    }
   ],
   "source": [
    "str1"
   ]
  },
  {
   "cell_type": "code",
   "execution_count": 27,
   "id": "56881111",
   "metadata": {},
   "outputs": [
    {
     "data": {
      "text/plain": [
       "'INDIA '"
      ]
     },
     "execution_count": 27,
     "metadata": {},
     "output_type": "execute_result"
    }
   ],
   "source": [
    "str1.ljust(6)"
   ]
  },
  {
   "cell_type": "code",
   "execution_count": 28,
   "id": "49b27fb3",
   "metadata": {},
   "outputs": [
    {
     "data": {
      "text/plain": [
       "'INDIA**'"
      ]
     },
     "execution_count": 28,
     "metadata": {},
     "output_type": "execute_result"
    }
   ],
   "source": [
    "str1.ljust(7,\"*\")"
   ]
  },
  {
   "cell_type": "code",
   "execution_count": 31,
   "id": "8eeb901e",
   "metadata": {},
   "outputs": [
    {
     "data": {
      "text/plain": [
       "'00INDIA'"
      ]
     },
     "execution_count": 31,
     "metadata": {},
     "output_type": "execute_result"
    }
   ],
   "source": [
    "str1.rjust(7,\"0\")"
   ]
  },
  {
   "cell_type": "code",
   "execution_count": 32,
   "id": "d8eb1a98",
   "metadata": {},
   "outputs": [
    {
     "data": {
      "text/plain": [
       "'welcome to python'"
      ]
     },
     "execution_count": 32,
     "metadata": {},
     "output_type": "execute_result"
    }
   ],
   "source": [
    "s"
   ]
  },
  {
   "cell_type": "code",
   "execution_count": 33,
   "id": "26e7153b",
   "metadata": {},
   "outputs": [
    {
     "data": {
      "text/plain": [
       "['welcome', 'to', 'python']"
      ]
     },
     "execution_count": 33,
     "metadata": {},
     "output_type": "execute_result"
    }
   ],
   "source": [
    "s.split()"
   ]
  },
  {
   "cell_type": "code",
   "execution_count": 34,
   "id": "5f24fb67",
   "metadata": {},
   "outputs": [
    {
     "data": {
      "text/plain": [
       "['welcome ', 'o py', 'hon']"
      ]
     },
     "execution_count": 34,
     "metadata": {},
     "output_type": "execute_result"
    }
   ],
   "source": [
    "s.split(\"t\")"
   ]
  },
  {
   "cell_type": "code",
   "execution_count": 35,
   "id": "3beb215d",
   "metadata": {},
   "outputs": [
    {
     "data": {
      "text/plain": [
       "['welcome', 'to', 'python']"
      ]
     },
     "execution_count": 35,
     "metadata": {},
     "output_type": "execute_result"
    }
   ],
   "source": [
    "s.rsplit()"
   ]
  },
  {
   "cell_type": "code",
   "execution_count": 37,
   "id": "7d54739e",
   "metadata": {},
   "outputs": [
    {
     "data": {
      "text/plain": [
       "['welcome ', 'o py', 'hon']"
      ]
     },
     "execution_count": 37,
     "metadata": {},
     "output_type": "execute_result"
    }
   ],
   "source": [
    "s.rsplit(\"t\")"
   ]
  },
  {
   "cell_type": "code",
   "execution_count": 38,
   "id": "bed8ec06",
   "metadata": {},
   "outputs": [
    {
     "data": {
      "text/plain": [
       "'welcome to python'"
      ]
     },
     "execution_count": 38,
     "metadata": {},
     "output_type": "execute_result"
    }
   ],
   "source": [
    "s"
   ]
  },
  {
   "cell_type": "code",
   "execution_count": 39,
   "id": "0cc73b95",
   "metadata": {},
   "outputs": [
    {
     "data": {
      "text/plain": [
       "2"
      ]
     },
     "execution_count": 39,
     "metadata": {},
     "output_type": "execute_result"
    }
   ],
   "source": [
    "s.count(\"t\")"
   ]
  },
  {
   "cell_type": "code",
   "execution_count": 40,
   "id": "1b4969fb",
   "metadata": {},
   "outputs": [
    {
     "data": {
      "text/plain": [
       "True"
      ]
     },
     "execution_count": 40,
     "metadata": {},
     "output_type": "execute_result"
    }
   ],
   "source": [
    "s.startswith(\"w\")"
   ]
  },
  {
   "cell_type": "code",
   "execution_count": 41,
   "id": "0535d087",
   "metadata": {},
   "outputs": [
    {
     "data": {
      "text/plain": [
       "False"
      ]
     },
     "execution_count": 41,
     "metadata": {},
     "output_type": "execute_result"
    }
   ],
   "source": [
    "s.endswith(\"o\")"
   ]
  },
  {
   "cell_type": "code",
   "execution_count": 1,
   "id": "454b71d9",
   "metadata": {},
   "outputs": [],
   "source": [
    "str3 = \"Apple is good for Health\""
   ]
  },
  {
   "cell_type": "code",
   "execution_count": 46,
   "id": "7f3e07e0",
   "metadata": {},
   "outputs": [
    {
     "data": {
      "text/plain": [
       "'Apple is good for Health'"
      ]
     },
     "execution_count": 46,
     "metadata": {},
     "output_type": "execute_result"
    }
   ],
   "source": [
    "str3"
   ]
  },
  {
   "cell_type": "code",
   "execution_count": 3,
   "id": "d57da431",
   "metadata": {},
   "outputs": [
    {
     "data": {
      "text/plain": [
       "15"
      ]
     },
     "execution_count": 3,
     "metadata": {},
     "output_type": "execute_result"
    }
   ],
   "source": [
    "str3.rfind(\"o\")"
   ]
  },
  {
   "cell_type": "code",
   "execution_count": 48,
   "id": "8508dada",
   "metadata": {},
   "outputs": [
    {
     "data": {
      "text/plain": [
       "9"
      ]
     },
     "execution_count": 48,
     "metadata": {},
     "output_type": "execute_result"
    }
   ],
   "source": [
    "str3.find(\"good\")"
   ]
  },
  {
   "cell_type": "code",
   "execution_count": 52,
   "id": "2262c721",
   "metadata": {},
   "outputs": [
    {
     "data": {
      "text/plain": [
       "15"
      ]
     },
     "execution_count": 52,
     "metadata": {},
     "output_type": "execute_result"
    }
   ],
   "source": [
    "str3.rfind(\"o\")"
   ]
  },
  {
   "cell_type": "code",
   "execution_count": 49,
   "id": "fc431f0c",
   "metadata": {},
   "outputs": [
    {
     "name": "stdout",
     "output_type": "stream",
     "text": [
      "-1\n"
     ]
    }
   ],
   "source": [
    "print( str3.find(\"Good\") ) # if sub string is not found it returns -1"
   ]
  },
  {
   "cell_type": "code",
   "execution_count": 50,
   "id": "48781db2",
   "metadata": {},
   "outputs": [
    {
     "data": {
      "text/plain": [
       "6"
      ]
     },
     "execution_count": 50,
     "metadata": {},
     "output_type": "execute_result"
    }
   ],
   "source": [
    "str3.index(\"is\")"
   ]
  },
  {
   "cell_type": "code",
   "execution_count": 51,
   "id": "9f2525f3",
   "metadata": {},
   "outputs": [
    {
     "ename": "ValueError",
     "evalue": "substring not found",
     "output_type": "error",
     "traceback": [
      "\u001b[1;31m---------------------------------------------------------------------------\u001b[0m",
      "\u001b[1;31mValueError\u001b[0m                                Traceback (most recent call last)",
      "\u001b[1;32m~\\AppData\\Local\\Temp\\ipykernel_21968\\1371303527.py\u001b[0m in \u001b[0;36m<module>\u001b[1;34m\u001b[0m\n\u001b[1;32m----> 1\u001b[1;33m \u001b[0mstr3\u001b[0m\u001b[1;33m.\u001b[0m\u001b[0mindex\u001b[0m\u001b[1;33m(\u001b[0m\u001b[1;34m\"gghg\"\u001b[0m\u001b[1;33m)\u001b[0m\u001b[1;33m\u001b[0m\u001b[1;33m\u001b[0m\u001b[0m\n\u001b[0m",
      "\u001b[1;31mValueError\u001b[0m: substring not found"
     ]
    }
   ],
   "source": [
    "str3.index(\"gghg\") # if sub string is not found it throws an error"
   ]
  },
  {
   "cell_type": "code",
   "execution_count": 53,
   "id": "52ac7179",
   "metadata": {},
   "outputs": [
    {
     "data": {
      "text/plain": [
       "'Apple is good for Health'"
      ]
     },
     "execution_count": 53,
     "metadata": {},
     "output_type": "execute_result"
    }
   ],
   "source": [
    "str3"
   ]
  },
  {
   "cell_type": "code",
   "execution_count": 55,
   "id": "adfa0632",
   "metadata": {},
   "outputs": [
    {
     "data": {
      "text/plain": [
       "('Apple is ', 'g', 'ood for Health')"
      ]
     },
     "execution_count": 55,
     "metadata": {},
     "output_type": "execute_result"
    }
   ],
   "source": [
    "str3.partition(\"g\")"
   ]
  },
  {
   "cell_type": "code",
   "execution_count": 56,
   "id": "d86e9f47",
   "metadata": {},
   "outputs": [
    {
     "data": {
      "text/plain": [
       "('Apple is g', 'o', 'od for Health')"
      ]
     },
     "execution_count": 56,
     "metadata": {},
     "output_type": "execute_result"
    }
   ],
   "source": [
    "str3.partition(\"o\")"
   ]
  },
  {
   "cell_type": "code",
   "execution_count": 57,
   "id": "205c461d",
   "metadata": {},
   "outputs": [
    {
     "data": {
      "text/plain": [
       "('Apple is good for Hea', 'l', 'th')"
      ]
     },
     "execution_count": 57,
     "metadata": {},
     "output_type": "execute_result"
    }
   ],
   "source": [
    "str3.rpartition(\"l\")"
   ]
  },
  {
   "cell_type": "code",
   "execution_count": 59,
   "id": "e648ee54",
   "metadata": {},
   "outputs": [
    {
     "ename": "TypeError",
     "evalue": "replace() argument 2 must be str, not int",
     "output_type": "error",
     "traceback": [
      "\u001b[1;31m---------------------------------------------------------------------------\u001b[0m",
      "\u001b[1;31mTypeError\u001b[0m                                 Traceback (most recent call last)",
      "\u001b[1;32m~\\AppData\\Local\\Temp\\ipykernel_21968\\3298822814.py\u001b[0m in \u001b[0;36m<module>\u001b[1;34m\u001b[0m\n\u001b[1;32m----> 1\u001b[1;33m \u001b[0mstr3\u001b[0m\u001b[1;33m.\u001b[0m\u001b[0mreplace\u001b[0m\u001b[1;33m(\u001b[0m\u001b[1;34m\"Health\"\u001b[0m \u001b[1;33m,\u001b[0m \u001b[1;36m1\u001b[0m\u001b[1;33m)\u001b[0m\u001b[1;33m\u001b[0m\u001b[1;33m\u001b[0m\u001b[0m\n\u001b[0m",
      "\u001b[1;31mTypeError\u001b[0m: replace() argument 2 must be str, not int"
     ]
    }
   ],
   "source": [
    "str3.replace(\"Health\" , 1)"
   ]
  },
  {
   "cell_type": "code",
   "execution_count": 60,
   "id": "0954072a",
   "metadata": {},
   "outputs": [
    {
     "data": {
      "text/plain": [
       "'Apple is good for health'"
      ]
     },
     "execution_count": 60,
     "metadata": {},
     "output_type": "execute_result"
    }
   ],
   "source": [
    "str3.replace(\"Health\" , \"health\")"
   ]
  },
  {
   "cell_type": "code",
   "execution_count": 61,
   "id": "c9cc8a14",
   "metadata": {},
   "outputs": [
    {
     "data": {
      "text/plain": [
       "'Apple is good for Health'"
      ]
     },
     "execution_count": 61,
     "metadata": {},
     "output_type": "execute_result"
    }
   ],
   "source": [
    "str3"
   ]
  },
  {
   "cell_type": "code",
   "execution_count": 2,
   "id": "46d60f7e",
   "metadata": {},
   "outputs": [
    {
     "data": {
      "text/plain": [
       "'apple is good'"
      ]
     },
     "execution_count": 2,
     "metadata": {},
     "output_type": "execute_result"
    }
   ],
   "source": [
    "str1 = \"apple is good\"\n",
    "\"\".join(str1)"
   ]
  },
  {
   "cell_type": "code",
   "execution_count": 62,
   "id": "97a38017",
   "metadata": {},
   "outputs": [
    {
     "data": {
      "text/plain": [
       "'A p p l e   i s   g o o d   f o r   H e a l t h'"
      ]
     },
     "execution_count": 62,
     "metadata": {},
     "output_type": "execute_result"
    }
   ],
   "source": [
    "\" \".join(str3)"
   ]
  },
  {
   "cell_type": "code",
   "execution_count": 64,
   "id": "6eda3273",
   "metadata": {},
   "outputs": [
    {
     "data": {
      "text/plain": [
       "'A*p*p*l*e* *i*s* *g*o*o*d* *f*o*r* *H*e*a*l*t*h'"
      ]
     },
     "execution_count": 64,
     "metadata": {},
     "output_type": "execute_result"
    }
   ],
   "source": [
    "\"*\".join(str3)"
   ]
  },
  {
   "cell_type": "code",
   "execution_count": 65,
   "id": "7c28fb07",
   "metadata": {},
   "outputs": [
    {
     "data": {
      "text/plain": [
       "'Apple is good for Health'"
      ]
     },
     "execution_count": 65,
     "metadata": {},
     "output_type": "execute_result"
    }
   ],
   "source": [
    "\"\".join(str3)"
   ]
  },
  {
   "cell_type": "code",
   "execution_count": 83,
   "id": "70444d05",
   "metadata": {},
   "outputs": [],
   "source": [
    "str4 = \"welcome to python\\nlet's start with the introduction\""
   ]
  },
  {
   "cell_type": "code",
   "execution_count": 84,
   "id": "aec7d50f",
   "metadata": {},
   "outputs": [
    {
     "data": {
      "text/plain": [
       "\"welcome to python\\nlet's start with the introduction\""
      ]
     },
     "execution_count": 84,
     "metadata": {},
     "output_type": "execute_result"
    }
   ],
   "source": [
    "str4"
   ]
  },
  {
   "cell_type": "code",
   "execution_count": 85,
   "id": "b574b050",
   "metadata": {},
   "outputs": [
    {
     "data": {
      "text/plain": [
       "['welcome to python', \"let's start with the introduction\"]"
      ]
     },
     "execution_count": 85,
     "metadata": {},
     "output_type": "execute_result"
    }
   ],
   "source": [
    "str4.splitlines()"
   ]
  },
  {
   "cell_type": "code",
   "execution_count": 87,
   "id": "bb310327",
   "metadata": {},
   "outputs": [
    {
     "name": "stdout",
     "output_type": "stream",
     "text": [
      "welcome to python\n",
      "let's start with the introduction\n"
     ]
    }
   ],
   "source": [
    "for i in str4.splitlines() :\n",
    "    print(i)"
   ]
  },
  {
   "cell_type": "code",
   "execution_count": 6,
   "id": "3bf20c14",
   "metadata": {},
   "outputs": [
    {
     "data": {
      "text/plain": [
       "'2 3 6'"
      ]
     },
     "execution_count": 6,
     "metadata": {},
     "output_type": "execute_result"
    }
   ],
   "source": [
    "\" \".join([\"2\",\"3\",\"6\"])"
   ]
  },
  {
   "cell_type": "code",
   "execution_count": 7,
   "id": "8ed86837",
   "metadata": {},
   "outputs": [
    {
     "ename": "TypeError",
     "evalue": "sequence item 0: expected str instance, int found",
     "output_type": "error",
     "traceback": [
      "\u001b[1;31m---------------------------------------------------------------------------\u001b[0m",
      "\u001b[1;31mTypeError\u001b[0m                                 Traceback (most recent call last)",
      "\u001b[1;32m~\\AppData\\Local\\Temp\\ipykernel_19424\\135321475.py\u001b[0m in \u001b[0;36m<module>\u001b[1;34m\u001b[0m\n\u001b[1;32m----> 1\u001b[1;33m \u001b[1;34m\" \"\u001b[0m\u001b[1;33m.\u001b[0m\u001b[0mjoin\u001b[0m\u001b[1;33m(\u001b[0m\u001b[1;33m[\u001b[0m\u001b[1;36m2\u001b[0m\u001b[1;33m,\u001b[0m\u001b[1;36m3\u001b[0m\u001b[1;33m,\u001b[0m\u001b[1;36m6\u001b[0m\u001b[1;33m]\u001b[0m\u001b[1;33m)\u001b[0m\u001b[1;33m\u001b[0m\u001b[1;33m\u001b[0m\u001b[0m\n\u001b[0m",
      "\u001b[1;31mTypeError\u001b[0m: sequence item 0: expected str instance, int found"
     ]
    }
   ],
   "source": [
    "\" \".join([2,3,6])"
   ]
  },
  {
   "cell_type": "code",
   "execution_count": 8,
   "id": "2bb7a631",
   "metadata": {},
   "outputs": [
    {
     "data": {
      "text/plain": [
       "'2 3 6'"
      ]
     },
     "execution_count": 8,
     "metadata": {},
     "output_type": "execute_result"
    }
   ],
   "source": [
    "\" \".join((\"2\",\"3\",\"6\"))"
   ]
  },
  {
   "cell_type": "code",
   "execution_count": 9,
   "id": "3b9ab419",
   "metadata": {},
   "outputs": [
    {
     "data": {
      "text/plain": [
       "'6 2 3'"
      ]
     },
     "execution_count": 9,
     "metadata": {},
     "output_type": "execute_result"
    }
   ],
   "source": [
    "\" \".join({\"2\",\"3\",\"6\"})"
   ]
  },
  {
   "cell_type": "code",
   "execution_count": null,
   "id": "390dc9f5",
   "metadata": {},
   "outputs": [],
   "source": []
  },
  {
   "cell_type": "code",
   "execution_count": null,
   "id": "6721271e",
   "metadata": {},
   "outputs": [],
   "source": []
  }
 ],
 "metadata": {
  "kernelspec": {
   "display_name": "Python 3 (ipykernel)",
   "language": "python",
   "name": "python3"
  },
  "language_info": {
   "codemirror_mode": {
    "name": "ipython",
    "version": 3
   },
   "file_extension": ".py",
   "mimetype": "text/x-python",
   "name": "python",
   "nbconvert_exporter": "python",
   "pygments_lexer": "ipython3",
   "version": "3.9.13"
  }
 },
 "nbformat": 4,
 "nbformat_minor": 5
}
