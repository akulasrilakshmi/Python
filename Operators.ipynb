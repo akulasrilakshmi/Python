{
 "cells": [
  {
   "cell_type": "markdown",
   "id": "10ceb112",
   "metadata": {},
   "source": [
    "### Operator :\n",
    "* operator is a special symbol that perform some action on values/operands. this process is called operation."
   ]
  },
  {
   "cell_type": "markdown",
   "id": "5594aef9",
   "metadata": {},
   "source": [
    "### Types of operators :\n",
    "* Arithmetic operators\n",
    "* Relational / Comparision operators\n",
    "* logical / boolean operators\n",
    "* Assignment operators\n",
    "* Special operators \n",
    "    * Identity operators\n",
    "    * Membership operators\n",
    "* Bitwise operatrors"
   ]
  },
  {
   "cell_type": "markdown",
   "id": "0620644e",
   "metadata": {},
   "source": [
    "### Arithmetic operators :\n",
    "* Aritghmetic operators are used with numeric values to perform commom mathematical operations.\n",
    "\n",
    "     * addition --> +\n",
    "     * substraction --> -\n",
    "     * multiplication --> *\n",
    "     * division --> /\n",
    "     * modulus --> %\n",
    "     * exponentiation --> **\n",
    "     * floor division --> //"
   ]
  },
  {
   "cell_type": "code",
   "execution_count": 13,
   "id": "78543009",
   "metadata": {},
   "outputs": [],
   "source": [
    "a = 15 \n",
    "b = 10\n"
   ]
  },
  {
   "cell_type": "code",
   "execution_count": 14,
   "id": "be5a2e18",
   "metadata": {},
   "outputs": [
    {
     "data": {
      "text/plain": [
       "25"
      ]
     },
     "execution_count": 14,
     "metadata": {},
     "output_type": "execute_result"
    }
   ],
   "source": [
    "a + b"
   ]
  },
  {
   "cell_type": "code",
   "execution_count": 15,
   "id": "7dba57a1",
   "metadata": {},
   "outputs": [
    {
     "data": {
      "text/plain": [
       "5"
      ]
     },
     "execution_count": 15,
     "metadata": {},
     "output_type": "execute_result"
    }
   ],
   "source": [
    "a - b"
   ]
  },
  {
   "cell_type": "code",
   "execution_count": 16,
   "id": "7206a427",
   "metadata": {},
   "outputs": [
    {
     "data": {
      "text/plain": [
       "150"
      ]
     },
     "execution_count": 16,
     "metadata": {},
     "output_type": "execute_result"
    }
   ],
   "source": [
    "a * b"
   ]
  },
  {
   "cell_type": "code",
   "execution_count": 17,
   "id": "f6ac8b3c",
   "metadata": {},
   "outputs": [
    {
     "data": {
      "text/plain": [
       "1.5"
      ]
     },
     "execution_count": 17,
     "metadata": {},
     "output_type": "execute_result"
    }
   ],
   "source": [
    "a/b"
   ]
  },
  {
   "cell_type": "code",
   "execution_count": 18,
   "id": "712b0312",
   "metadata": {},
   "outputs": [
    {
     "data": {
      "text/plain": [
       "5"
      ]
     },
     "execution_count": 18,
     "metadata": {},
     "output_type": "execute_result"
    }
   ],
   "source": [
    "a%b"
   ]
  },
  {
   "cell_type": "code",
   "execution_count": 19,
   "id": "a56989ba",
   "metadata": {},
   "outputs": [
    {
     "data": {
      "text/plain": [
       "576650390625"
      ]
     },
     "execution_count": 19,
     "metadata": {},
     "output_type": "execute_result"
    }
   ],
   "source": [
    "a**b"
   ]
  },
  {
   "cell_type": "code",
   "execution_count": 20,
   "id": "934bd85e",
   "metadata": {},
   "outputs": [
    {
     "data": {
      "text/plain": [
       "1"
      ]
     },
     "execution_count": 20,
     "metadata": {},
     "output_type": "execute_result"
    }
   ],
   "source": [
    "a//b"
   ]
  },
  {
   "cell_type": "markdown",
   "id": "1a075fc8",
   "metadata": {},
   "source": [
    "### Relational / Comparision operators :\n",
    "* Comparision operators are used to compare two values.\n",
    "      * equal --> ==\n",
    "      * not equal --> !=\n",
    "      * less than --> <\n",
    "      * greater than --> >\n",
    "      * less than or equal --> <=\n",
    "      * greater than or equal --> >="
   ]
  },
  {
   "cell_type": "code",
   "execution_count": 22,
   "id": "3bc23380",
   "metadata": {},
   "outputs": [],
   "source": [
    "a = 130\n",
    "b = 100"
   ]
  },
  {
   "cell_type": "code",
   "execution_count": 23,
   "id": "05f87d03",
   "metadata": {},
   "outputs": [
    {
     "data": {
      "text/plain": [
       "False"
      ]
     },
     "execution_count": 23,
     "metadata": {},
     "output_type": "execute_result"
    }
   ],
   "source": [
    "a == b"
   ]
  },
  {
   "cell_type": "code",
   "execution_count": 24,
   "id": "3ebd8b01",
   "metadata": {},
   "outputs": [
    {
     "data": {
      "text/plain": [
       "True"
      ]
     },
     "execution_count": 24,
     "metadata": {},
     "output_type": "execute_result"
    }
   ],
   "source": [
    "a != b"
   ]
  },
  {
   "cell_type": "code",
   "execution_count": 25,
   "id": "e66d6dfe",
   "metadata": {},
   "outputs": [
    {
     "data": {
      "text/plain": [
       "True"
      ]
     },
     "execution_count": 25,
     "metadata": {},
     "output_type": "execute_result"
    }
   ],
   "source": [
    "a > b"
   ]
  },
  {
   "cell_type": "code",
   "execution_count": 26,
   "id": "8973178a",
   "metadata": {},
   "outputs": [
    {
     "data": {
      "text/plain": [
       "False"
      ]
     },
     "execution_count": 26,
     "metadata": {},
     "output_type": "execute_result"
    }
   ],
   "source": [
    "a < b"
   ]
  },
  {
   "cell_type": "code",
   "execution_count": 27,
   "id": "f22c1fc8",
   "metadata": {},
   "outputs": [
    {
     "data": {
      "text/plain": [
       "True"
      ]
     },
     "execution_count": 27,
     "metadata": {},
     "output_type": "execute_result"
    }
   ],
   "source": [
    "a >= b"
   ]
  },
  {
   "cell_type": "code",
   "execution_count": 28,
   "id": "857370ba",
   "metadata": {},
   "outputs": [
    {
     "data": {
      "text/plain": [
       "False"
      ]
     },
     "execution_count": 28,
     "metadata": {},
     "output_type": "execute_result"
    }
   ],
   "source": [
    "a <= b"
   ]
  },
  {
   "cell_type": "markdown",
   "id": "d9dc722f",
   "metadata": {},
   "source": [
    "### Logical operators :\n",
    "* Logical operators are used to combine the output of conditional statements.\n",
    "* operands with any comparision operator is called conditional statement.\n",
    "\n",
    "   * AND --> returns True if both the statements are True\n",
    "   * OR  --> returns True if one of the statement is True\n",
    "   * NOT --> reverse the output"
   ]
  },
  {
   "cell_type": "markdown",
   "id": "53866f5e",
   "metadata": {},
   "source": [
    "#### Logical Operator - AND"
   ]
  },
  {
   "cell_type": "code",
   "execution_count": 30,
   "id": "51d8ec7c",
   "metadata": {},
   "outputs": [
    {
     "data": {
      "text/plain": [
       "True"
      ]
     },
     "execution_count": 30,
     "metadata": {},
     "output_type": "execute_result"
    }
   ],
   "source": [
    "(100 == 100) and ( \"APPLE\" == \"APPLE\") "
   ]
  },
  {
   "cell_type": "code",
   "execution_count": 31,
   "id": "ba046e5e",
   "metadata": {},
   "outputs": [
    {
     "data": {
      "text/plain": [
       "False"
      ]
     },
     "execution_count": 31,
     "metadata": {},
     "output_type": "execute_result"
    }
   ],
   "source": [
    "(100 == 100) and ( \"APPLE\" == \"Apple\") "
   ]
  },
  {
   "cell_type": "code",
   "execution_count": 32,
   "id": "70747522",
   "metadata": {},
   "outputs": [
    {
     "data": {
      "text/plain": [
       "True"
      ]
     },
     "execution_count": 32,
     "metadata": {},
     "output_type": "execute_result"
    }
   ],
   "source": [
    "(100 == 100) and ( \"APPLE\" == \"APPLE\") and (50 > 25) and (\"A\" < \"a\")"
   ]
  },
  {
   "cell_type": "code",
   "execution_count": 34,
   "id": "7b846f02",
   "metadata": {},
   "outputs": [
    {
     "data": {
      "text/plain": [
       "False"
      ]
     },
     "execution_count": 34,
     "metadata": {},
     "output_type": "execute_result"
    }
   ],
   "source": [
    "(100 == 100) and ( \"APPLE\" == \"APPLE\") and (50 < 25) and (\"A\" < \"a\")"
   ]
  },
  {
   "cell_type": "markdown",
   "id": "1f742c97",
   "metadata": {},
   "source": [
    "#### Logical Operator - OR"
   ]
  },
  {
   "cell_type": "code",
   "execution_count": 39,
   "id": "39287fef",
   "metadata": {},
   "outputs": [
    {
     "data": {
      "text/plain": [
       "True"
      ]
     },
     "execution_count": 39,
     "metadata": {},
     "output_type": "execute_result"
    }
   ],
   "source": [
    "(100 == 100) or ( \"APPLE\" == \"APPLE\")"
   ]
  },
  {
   "cell_type": "code",
   "execution_count": 40,
   "id": "a958980c",
   "metadata": {},
   "outputs": [
    {
     "data": {
      "text/plain": [
       "True"
      ]
     },
     "execution_count": 40,
     "metadata": {},
     "output_type": "execute_result"
    }
   ],
   "source": [
    "(100 == 100) or ( \"APPLE\" == \"Apple\") "
   ]
  },
  {
   "cell_type": "code",
   "execution_count": 41,
   "id": "736c5abd",
   "metadata": {},
   "outputs": [
    {
     "data": {
      "text/plain": [
       "True"
      ]
     },
     "execution_count": 41,
     "metadata": {},
     "output_type": "execute_result"
    }
   ],
   "source": [
    "(100 == 100) or ( \"APPLE\" != \"APPLE\") or (50 < 25) or (\"A\" == \"a\")"
   ]
  },
  {
   "cell_type": "code",
   "execution_count": 42,
   "id": "9a09f6c5",
   "metadata": {},
   "outputs": [
    {
     "data": {
      "text/plain": [
       "False"
      ]
     },
     "execution_count": 42,
     "metadata": {},
     "output_type": "execute_result"
    }
   ],
   "source": [
    "(100 != 100) or ( \"APPLE\" != \"APPLE\") or (50 < 25) or (\"A\" == \"a\")"
   ]
  },
  {
   "cell_type": "markdown",
   "id": "06b72ced",
   "metadata": {},
   "source": [
    "### Values with Logical Operators :\n",
    "* Using And with values --> it always return right side value until any one of the value is zero or empty string.\n",
    "  If any of the value is zero or empty string it return zero /empty string\n",
    "* Using Or with values --> it always return left side value until any one of the value is zero or empty string.\n",
    "  If any of the value is zero or empty string it return opposite value.\n"
   ]
  },
  {
   "cell_type": "code",
   "execution_count": 44,
   "id": "da82011b",
   "metadata": {},
   "outputs": [
    {
     "data": {
      "text/plain": [
       "'Orange'"
      ]
     },
     "execution_count": 44,
     "metadata": {},
     "output_type": "execute_result"
    }
   ],
   "source": [
    "\"Apple\" and \"Orange\""
   ]
  },
  {
   "cell_type": "code",
   "execution_count": 45,
   "id": "10be04a9",
   "metadata": {},
   "outputs": [
    {
     "data": {
      "text/plain": [
       "100"
      ]
     },
     "execution_count": 45,
     "metadata": {},
     "output_type": "execute_result"
    }
   ],
   "source": [
    "200 and 100"
   ]
  },
  {
   "cell_type": "code",
   "execution_count": 46,
   "id": "bed11ff0",
   "metadata": {},
   "outputs": [
    {
     "data": {
      "text/plain": [
       "0"
      ]
     },
     "execution_count": 46,
     "metadata": {},
     "output_type": "execute_result"
    }
   ],
   "source": [
    "500 and 0 "
   ]
  },
  {
   "cell_type": "code",
   "execution_count": 47,
   "id": "1c4001b2",
   "metadata": {},
   "outputs": [
    {
     "data": {
      "text/plain": [
       "0"
      ]
     },
     "execution_count": 47,
     "metadata": {},
     "output_type": "execute_result"
    }
   ],
   "source": [
    "0 and 500"
   ]
  },
  {
   "cell_type": "code",
   "execution_count": 48,
   "id": "cd46aca3",
   "metadata": {},
   "outputs": [
    {
     "data": {
      "text/plain": [
       "'Orange'"
      ]
     },
     "execution_count": 48,
     "metadata": {},
     "output_type": "execute_result"
    }
   ],
   "source": [
    "500 and \"APPLE\" and 300 and \"Orange\""
   ]
  },
  {
   "cell_type": "code",
   "execution_count": 49,
   "id": "f028d84d",
   "metadata": {},
   "outputs": [
    {
     "data": {
      "text/plain": [
       "0"
      ]
     },
     "execution_count": 49,
     "metadata": {},
     "output_type": "execute_result"
    }
   ],
   "source": [
    "500 and \"APPLE\" and 0 and \"Orange\""
   ]
  },
  {
   "cell_type": "code",
   "execution_count": 50,
   "id": "955f399a",
   "metadata": {},
   "outputs": [
    {
     "data": {
      "text/plain": [
       "''"
      ]
     },
     "execution_count": 50,
     "metadata": {},
     "output_type": "execute_result"
    }
   ],
   "source": [
    "\"\" and \"Orange\""
   ]
  },
  {
   "cell_type": "code",
   "execution_count": 51,
   "id": "eb380d51",
   "metadata": {},
   "outputs": [
    {
     "data": {
      "text/plain": [
       "''"
      ]
     },
     "execution_count": 51,
     "metadata": {},
     "output_type": "execute_result"
    }
   ],
   "source": [
    "\"Apple\" and \"\" and 0"
   ]
  },
  {
   "cell_type": "code",
   "execution_count": 52,
   "id": "1be71212",
   "metadata": {},
   "outputs": [
    {
     "data": {
      "text/plain": [
       "100"
      ]
     },
     "execution_count": 52,
     "metadata": {},
     "output_type": "execute_result"
    }
   ],
   "source": [
    "100 or 200"
   ]
  },
  {
   "cell_type": "code",
   "execution_count": 53,
   "id": "702395b2",
   "metadata": {},
   "outputs": [
    {
     "data": {
      "text/plain": [
       "100"
      ]
     },
     "execution_count": 53,
     "metadata": {},
     "output_type": "execute_result"
    }
   ],
   "source": [
    "100 or 0"
   ]
  },
  {
   "cell_type": "code",
   "execution_count": 54,
   "id": "d0cc422f",
   "metadata": {},
   "outputs": [
    {
     "data": {
      "text/plain": [
       "500"
      ]
     },
     "execution_count": 54,
     "metadata": {},
     "output_type": "execute_result"
    }
   ],
   "source": [
    "0 or 500"
   ]
  },
  {
   "cell_type": "code",
   "execution_count": 55,
   "id": "6ce8eaa1",
   "metadata": {},
   "outputs": [
    {
     "data": {
      "text/plain": [
       "'Apple'"
      ]
     },
     "execution_count": 55,
     "metadata": {},
     "output_type": "execute_result"
    }
   ],
   "source": [
    "\"Apple\" or \"\""
   ]
  },
  {
   "cell_type": "code",
   "execution_count": 56,
   "id": "8dec550f",
   "metadata": {},
   "outputs": [
    {
     "data": {
      "text/plain": [
       "'Orange'"
      ]
     },
     "execution_count": 56,
     "metadata": {},
     "output_type": "execute_result"
    }
   ],
   "source": [
    "\"Apple\" and \"Orange\" or \"Banana\" and 100"
   ]
  },
  {
   "cell_type": "code",
   "execution_count": 57,
   "id": "49919191",
   "metadata": {},
   "outputs": [
    {
     "data": {
      "text/plain": [
       "False"
      ]
     },
     "execution_count": 57,
     "metadata": {},
     "output_type": "execute_result"
    }
   ],
   "source": [
    "(10 > 5) and (60 < 50)"
   ]
  },
  {
   "cell_type": "code",
   "execution_count": 58,
   "id": "e975f3e8",
   "metadata": {},
   "outputs": [
    {
     "data": {
      "text/plain": [
       "True"
      ]
     },
     "execution_count": 58,
     "metadata": {},
     "output_type": "execute_result"
    }
   ],
   "source": [
    "not( (10 > 5) and (60 < 50) )"
   ]
  },
  {
   "cell_type": "markdown",
   "id": "e5eca2fe",
   "metadata": {},
   "source": [
    "### Bitwise Operators :\n",
    "* Bitwise operators only work on integers.\n",
    "* first the integers are converted to binary format and operation is performed on bit by bit.\n",
    "    \n",
    "     * Bitwise AND --> &\n",
    "     * Bitwise OR  --> |\n",
    "     * Bitwise compliment --> ~\n",
    "     * Bitwise XOR --> ^\n",
    "     * Left shift --> <<\n",
    "     * Right shift --> >>\n",
    "        "
   ]
  },
  {
   "cell_type": "markdown",
   "id": "fc0facf6",
   "metadata": {},
   "source": [
    "#### Bitwise operator - AND"
   ]
  },
  {
   "cell_type": "code",
   "execution_count": 73,
   "id": "40e12083",
   "metadata": {},
   "outputs": [
    {
     "data": {
      "text/plain": [
       "4"
      ]
     },
     "execution_count": 73,
     "metadata": {},
     "output_type": "execute_result"
    }
   ],
   "source": [
    "7 & 4"
   ]
  },
  {
   "cell_type": "code",
   "execution_count": 74,
   "id": "1a030ad6",
   "metadata": {},
   "outputs": [
    {
     "data": {
      "text/plain": [
       "8"
      ]
     },
     "execution_count": 74,
     "metadata": {},
     "output_type": "execute_result"
    }
   ],
   "source": [
    "9 & 10"
   ]
  },
  {
   "cell_type": "markdown",
   "id": "cd371f85",
   "metadata": {},
   "source": [
    "#### Bitwise operator - AND"
   ]
  },
  {
   "cell_type": "code",
   "execution_count": 77,
   "id": "c00f2b1f",
   "metadata": {},
   "outputs": [
    {
     "data": {
      "text/plain": [
       "10"
      ]
     },
     "execution_count": 77,
     "metadata": {},
     "output_type": "execute_result"
    }
   ],
   "source": [
    "10 | 8"
   ]
  },
  {
   "cell_type": "code",
   "execution_count": 78,
   "id": "59712d29",
   "metadata": {},
   "outputs": [
    {
     "data": {
      "text/plain": [
       "15"
      ]
     },
     "execution_count": 78,
     "metadata": {},
     "output_type": "execute_result"
    }
   ],
   "source": [
    "7 |9"
   ]
  },
  {
   "cell_type": "markdown",
   "id": "90c16ceb",
   "metadata": {},
   "source": [
    "#### Bitwise operator - compliment \n",
    " * it is a two step process\n",
    "     * first step is 1's compliment --> add 1 to the original value.\n",
    "     * second step is 2's compliment --> reverse the sign"
   ]
  },
  {
   "cell_type": "code",
   "execution_count": 80,
   "id": "0d4afdd9",
   "metadata": {},
   "outputs": [
    {
     "data": {
      "text/plain": [
       "-9"
      ]
     },
     "execution_count": 80,
     "metadata": {},
     "output_type": "execute_result"
    }
   ],
   "source": [
    "~8"
   ]
  },
  {
   "cell_type": "code",
   "execution_count": 81,
   "id": "beb69ac3",
   "metadata": {},
   "outputs": [
    {
     "data": {
      "text/plain": [
       "-13"
      ]
     },
     "execution_count": 81,
     "metadata": {},
     "output_type": "execute_result"
    }
   ],
   "source": [
    "~12"
   ]
  },
  {
   "cell_type": "markdown",
   "id": "19aa271f",
   "metadata": {},
   "source": [
    "#### Bitwise operator - XOR"
   ]
  },
  {
   "cell_type": "code",
   "execution_count": 83,
   "id": "f214864e",
   "metadata": {},
   "outputs": [
    {
     "data": {
      "text/plain": [
       "2"
      ]
     },
     "execution_count": 83,
     "metadata": {},
     "output_type": "execute_result"
    }
   ],
   "source": [
    "5 ^ 7"
   ]
  },
  {
   "cell_type": "code",
   "execution_count": 84,
   "id": "8c1e5267",
   "metadata": {},
   "outputs": [
    {
     "data": {
      "text/plain": [
       "9"
      ]
     },
     "execution_count": 84,
     "metadata": {},
     "output_type": "execute_result"
    }
   ],
   "source": [
    "12 ^ 5"
   ]
  },
  {
   "cell_type": "markdown",
   "id": "9e895bc8",
   "metadata": {},
   "source": [
    "#### Bitwise operator - Left shift\n",
    "* in Bitwise left shift operator resultant value is always greater than original value."
   ]
  },
  {
   "cell_type": "code",
   "execution_count": 86,
   "id": "694066ae",
   "metadata": {},
   "outputs": [
    {
     "data": {
      "text/plain": [
       "40"
      ]
     },
     "execution_count": 86,
     "metadata": {},
     "output_type": "execute_result"
    }
   ],
   "source": [
    "5 << 3"
   ]
  },
  {
   "cell_type": "code",
   "execution_count": 87,
   "id": "3787aba8",
   "metadata": {},
   "outputs": [
    {
     "data": {
      "text/plain": [
       "48"
      ]
     },
     "execution_count": 87,
     "metadata": {},
     "output_type": "execute_result"
    }
   ],
   "source": [
    "12 << 2"
   ]
  },
  {
   "cell_type": "markdown",
   "id": "ce023f19",
   "metadata": {},
   "source": [
    "#### Bitwise operator - Right shift\n",
    "in Bitwise Right shift operator resultant value is always less than original value."
   ]
  },
  {
   "cell_type": "code",
   "execution_count": 89,
   "id": "571bb6a5",
   "metadata": {},
   "outputs": [
    {
     "data": {
      "text/plain": [
       "1"
      ]
     },
     "execution_count": 89,
     "metadata": {},
     "output_type": "execute_result"
    }
   ],
   "source": [
    "7 >> 2"
   ]
  },
  {
   "cell_type": "code",
   "execution_count": 92,
   "id": "04b35dd5",
   "metadata": {},
   "outputs": [
    {
     "data": {
      "text/plain": [
       "2"
      ]
     },
     "execution_count": 92,
     "metadata": {},
     "output_type": "execute_result"
    }
   ],
   "source": [
    "19 >> 3"
   ]
  },
  {
   "cell_type": "markdown",
   "id": "6d8c1a6f",
   "metadata": {},
   "source": [
    "### Special Operators :\n",
    "* Membership operators\n",
    "   * Membership operator is to test a sequence is presebnt in object or not.\n",
    "       * in \n",
    "       * not in\n",
    "    \n",
    "* Identity operators :\n",
    "    * Identity operators compare the objects.\n",
    "       * is\n",
    "       * is not"
   ]
  },
  {
   "cell_type": "markdown",
   "id": "4413e4f7",
   "metadata": {},
   "source": [
    "#### Membership operators  -  in , not in"
   ]
  },
  {
   "cell_type": "code",
   "execution_count": 95,
   "id": "61c831be",
   "metadata": {},
   "outputs": [],
   "source": [
    "s1 = \"hello world\"\n",
    "s2 = \"hey\"\n",
    "s3 = \"world\""
   ]
  },
  {
   "cell_type": "code",
   "execution_count": 96,
   "id": "695e29b1",
   "metadata": {},
   "outputs": [
    {
     "data": {
      "text/plain": [
       "False"
      ]
     },
     "execution_count": 96,
     "metadata": {},
     "output_type": "execute_result"
    }
   ],
   "source": [
    "s2 in s1"
   ]
  },
  {
   "cell_type": "code",
   "execution_count": 97,
   "id": "68fe665e",
   "metadata": {},
   "outputs": [
    {
     "data": {
      "text/plain": [
       "True"
      ]
     },
     "execution_count": 97,
     "metadata": {},
     "output_type": "execute_result"
    }
   ],
   "source": [
    "s2 not in s1"
   ]
  },
  {
   "cell_type": "code",
   "execution_count": 98,
   "id": "af9fa6ba",
   "metadata": {},
   "outputs": [
    {
     "data": {
      "text/plain": [
       "True"
      ]
     },
     "execution_count": 98,
     "metadata": {},
     "output_type": "execute_result"
    }
   ],
   "source": [
    "s3 in s1"
   ]
  },
  {
   "cell_type": "code",
   "execution_count": 99,
   "id": "f7dc8dc6",
   "metadata": {},
   "outputs": [
    {
     "data": {
      "text/plain": [
       "False"
      ]
     },
     "execution_count": 99,
     "metadata": {},
     "output_type": "execute_result"
    }
   ],
   "source": [
    "s3 not in s1"
   ]
  },
  {
   "cell_type": "markdown",
   "id": "21b557cd",
   "metadata": {},
   "source": [
    "#### Identity operators  -  is , is not"
   ]
  },
  {
   "cell_type": "code",
   "execution_count": 101,
   "id": "27192ba5",
   "metadata": {},
   "outputs": [],
   "source": [
    "a = \"python\"\n",
    "b = \"java\""
   ]
  },
  {
   "cell_type": "code",
   "execution_count": 102,
   "id": "f9db2a6d",
   "metadata": {},
   "outputs": [
    {
     "data": {
      "text/plain": [
       "False"
      ]
     },
     "execution_count": 102,
     "metadata": {},
     "output_type": "execute_result"
    }
   ],
   "source": [
    "a is b"
   ]
  },
  {
   "cell_type": "code",
   "execution_count": 103,
   "id": "8054272e",
   "metadata": {},
   "outputs": [
    {
     "data": {
      "text/plain": [
       "True"
      ]
     },
     "execution_count": 103,
     "metadata": {},
     "output_type": "execute_result"
    }
   ],
   "source": [
    "a is not b"
   ]
  },
  {
   "cell_type": "markdown",
   "id": "c89591d8",
   "metadata": {},
   "source": [
    "### Assignment operators :\n",
    "* Assignment operators are used to used to assign values to variables."
   ]
  },
  {
   "cell_type": "code",
   "execution_count": 107,
   "id": "61b1bbb6",
   "metadata": {},
   "outputs": [],
   "source": [
    "x1 = 8"
   ]
  },
  {
   "cell_type": "code",
   "execution_count": 110,
   "id": "f52faab3",
   "metadata": {},
   "outputs": [
    {
     "data": {
      "text/plain": [
       "17"
      ]
     },
     "execution_count": 110,
     "metadata": {},
     "output_type": "execute_result"
    }
   ],
   "source": [
    "x1 += 3\n",
    "x1"
   ]
  },
  {
   "cell_type": "code",
   "execution_count": 112,
   "id": "cb283b8c",
   "metadata": {},
   "outputs": [
    {
     "data": {
      "text/plain": [
       "9"
      ]
     },
     "execution_count": 112,
     "metadata": {},
     "output_type": "execute_result"
    }
   ],
   "source": [
    "x1 -= 4\n",
    "x1"
   ]
  },
  {
   "cell_type": "code",
   "execution_count": 114,
   "id": "f866ada5",
   "metadata": {},
   "outputs": [
    {
     "data": {
      "text/plain": [
       "9"
      ]
     },
     "execution_count": 114,
     "metadata": {},
     "output_type": "execute_result"
    }
   ],
   "source": [
    "x1 ^= 3\n",
    "x1"
   ]
  },
  {
   "cell_type": "code",
   "execution_count": 115,
   "id": "56f5bf7f",
   "metadata": {},
   "outputs": [
    {
     "data": {
      "text/plain": [
       "18"
      ]
     },
     "execution_count": 115,
     "metadata": {},
     "output_type": "execute_result"
    }
   ],
   "source": [
    "x1 <<= 1\n",
    "x1"
   ]
  },
  {
   "cell_type": "code",
   "execution_count": 116,
   "id": "899a7b1e",
   "metadata": {},
   "outputs": [
    {
     "data": {
      "text/plain": [
       "4"
      ]
     },
     "execution_count": 116,
     "metadata": {},
     "output_type": "execute_result"
    }
   ],
   "source": [
    "x1 >>= 2\n",
    "x1"
   ]
  },
  {
   "cell_type": "code",
   "execution_count": null,
   "id": "0127dc0e",
   "metadata": {},
   "outputs": [],
   "source": []
  },
  {
   "cell_type": "code",
   "execution_count": null,
   "id": "fce2caaa",
   "metadata": {},
   "outputs": [],
   "source": []
  }
 ],
 "metadata": {
  "kernelspec": {
   "display_name": "Python 3 (ipykernel)",
   "language": "python",
   "name": "python3"
  },
  "language_info": {
   "codemirror_mode": {
    "name": "ipython",
    "version": 3
   },
   "file_extension": ".py",
   "mimetype": "text/x-python",
   "name": "python",
   "nbconvert_exporter": "python",
   "pygments_lexer": "ipython3",
   "version": "3.9.13"
  }
 },
 "nbformat": 4,
 "nbformat_minor": 5
}
